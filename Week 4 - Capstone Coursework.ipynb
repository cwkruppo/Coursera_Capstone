{
    "cells": [
        {
            "cell_type": "markdown",
            "metadata": {
                "collapsed": true
            },
            "source": "# Week 4 - Segmenting and Clustering Neighborhoods in Toronto"
        },
        {
            "cell_type": "markdown",
            "metadata": {},
            "source": "CK - Feb 2021"
        },
        {
            "cell_type": "code",
            "execution_count": null,
            "metadata": {},
            "outputs": [],
            "source": "## Week 4 - Toronto Hoods - CK - Feb 2021\n## Install necessary packages\n!pip install beautifulsoup4\n!pip install lxml\nimport requests # library to handle requests\nimport pandas as pd # library for data analsysis\nimport numpy as np # library to handle data in a vectorized manner\nimport random # library for random number generation\n\n#!conda install -c conda-forge geopy --yes \nfrom geopy.geocoders import Nominatim # module to convert an address into latitude and longitude values\n\n# libraries for displaying images\nfrom IPython.display import Image \nfrom IPython.core.display import HTML \n\n\nfrom IPython.display import display_html\nimport pandas as pd\nimport numpy as np\n    \n# tranforming json file into a pandas dataframe library\nimport json\nfrom pandas.io.json import json_normalize\n\n!conda install -c conda-forge folium=0.5.0 --yes\nimport folium # plotting library\nfrom bs4 import BeautifulSoup\nfrom sklearn.cluster import KMeans\nimport matplotlib.cm as cm\nimport matplotlib.colors as colors\n\nprint('Folium installed')\nprint('Libraries imported.')"
        },
        {
            "cell_type": "markdown",
            "metadata": {},
            "source": "# Step 2"
        },
        {
            "cell_type": "markdown",
            "metadata": {},
            "source": "Use the Notebook to build the code to scrape the following Wikipedia page, https://en.wikipedia.org/wiki/List_of_postal_codes_of_Canada:_M, in order to obtain the data that is in the table of postal codes and to transform the data into a pandas  dataframe like the one shown below:"
        },
        {
            "cell_type": "code",
            "execution_count": null,
            "metadata": {},
            "outputs": [],
            "source": "## Pull Canada postal code data from wikipedia webpage\nsource = requests.get('https://en.wikipedia.org/wiki/List_of_postal_codes_of_Canada:_M').text\nsoup=BeautifulSoup(source,'lxml')\nprint(soup.title)\nfrom IPython.display import display_html\ntab = str(soup.table)\ndisplay_html(tab,raw=True)"
        },
        {
            "cell_type": "markdown",
            "metadata": {},
            "source": "# Step 3"
        },
        {
            "cell_type": "markdown",
            "metadata": {},
            "source": "To create the above dataframe:\n\nThe dataframe will consist of three columns: PostalCode, Borough, and Neighborhood\nOnly process the cells that have an assigned borough. Ignore cells with a borough that is Not assigned.\nMore than one neighborhood can exist in one postal code area. For example, in the table on the Wikipedia page, you will notice that M5A is listed twice and has two neighborhoods: Harbourfront and Regent Park. These two rows will be combined into one row with the neighborhoods separated with a comma as shown in row 11  in the above table.\nIf a cell has a borough but a Not assigned  neighborhood, then the neighborhood will be the same as the borough.\nClean your Notebook and add Markdown cells to explain your work and any assumptions you are making.\nIn the last cell of your notebook, use the .shape method to print the number of rows of your dataframe."
        },
        {
            "cell_type": "code",
            "execution_count": null,
            "metadata": {},
            "outputs": [],
            "source": "## Convert html data to a dataframe, check results\ndfs = pd.read_html(tab)\ndf=dfs[0]\ndf.head()"
        },
        {
            "cell_type": "code",
            "execution_count": null,
            "metadata": {},
            "outputs": [],
            "source": "## Data preprocessing and cleaning to remove extraneous/merge unassigned values to match the borough\n# Dropping the rows where Borough is 'Not assigned'\ndf1 = df[df.Borough != 'Not assigned']\n\n# Combining the neighbourhoods with same Postalcode\ndf2 = df1.groupby(['Postcode','Borough'], sort=False).agg(', '.join)\ndf2.reset_index(inplace=True)\n\n# Replacing the name of the neighbourhoods which are 'Not assigned' with names of Borough\ndf2['Neighbourhood'] = np.where(df2['Neighbourhood'] == 'Not assigned',df2['Borough'], df2['Neighbourhood'])\n\n## test results\ndf2.head()\n# Shape of data frame\ndf2.shape"
        },
        {
            "cell_type": "markdown",
            "metadata": {},
            "source": "# Step 4"
        },
        {
            "cell_type": "markdown",
            "metadata": {},
            "source": "Use the Geocoder package or the csv file to create the following dataframe:\nGiven that this package can be very unreliable, in case you are not able to get the geographical coordinates of the neighborhoods using the Geocoder package, here is a link to a csv file that has the geographical coordinates of each postal code: http://cocl.us/Geospatial_data"
        },
        {
            "cell_type": "code",
            "execution_count": null,
            "metadata": {},
            "outputs": [],
            "source": "## Per assignment instructions regarding reliability of the Geocoder package, opted for the prescribed csv file to create the dataframe.\nlat_lon = pd.read_csv('https://cocl.us/Geospatial_data')\nlat_lon.head()"
        },
        {
            "cell_type": "code",
            "execution_count": null,
            "metadata": {},
            "outputs": [],
            "source": "## Combine postal codes dataframe with neighbourhood dataframe\nlat_lon.rename(columns={'Postal Code':'Postcode'},inplace=True)\ndf3 = pd.merge(df2,lat_lon,on='Postcode')\ndf3.head()"
        },
        {
            "cell_type": "markdown",
            "metadata": {},
            "source": "# Step 5"
        },
        {
            "cell_type": "markdown",
            "metadata": {},
            "source": "Explore and cluster the neighborhoods in Toronto. You can decide to work with only boroughs that contain the word Toronto and then replicate the same analysis we did to the New York City data. It is up to you. \n\nJust make sure: to add enough Markdown cells to explain what you decided to do and to report any observations you make; to generate maps to visualize your neighborhoods and how they cluster together. \nOnce you are happy with your analysis, submit a link to the new Notebook on your Github repository."
        },
        {
            "cell_type": "code",
            "execution_count": null,
            "metadata": {},
            "outputs": [],
            "source": "## Reduce dataframe to Toronto neighbourhoods only\ndf4 = df3[df3['Borough'].str.contains('Toronto',regex=False)]\ndf4.head()"
        },
        {
            "cell_type": "code",
            "execution_count": null,
            "metadata": {},
            "outputs": [],
            "source": "##Vizualise the dataframe as a map\nmap_toronto = folium.Map(location=[43.651070,-79.347015],zoom_start=10)\n\nfor lat,lng,borough,neighbourhood in zip(df4['Latitude'],df4['Longitude'],df4['Borough'],df4['Neighbourhood']):\n    label = '{}, {}'.format(neighbourhood, borough)\n    label = folium.Popup(label, parse_html=True)\n    folium.CircleMarker(\n    [lat,lng],\n    radius=5,\n    popup=label,\n    color='blue',\n    fill=True,\n    fill_color='#3186cc',\n    fill_opacity=0.7,\n    parse_html=False).add_to(map_toronto)\nmap_toronto"
        },
        {
            "cell_type": "code",
            "execution_count": null,
            "metadata": {},
            "outputs": [],
            "source": "##Cluseter the map data using k-means\nk=5\ntoronto_clustering = df4.drop(['Postcode','Borough','Neighbourhood'],1)\nkmeans = KMeans(n_clusters = k,random_state=0).fit(toronto_clustering)\nkmeans.labels_\ndf4.insert(0, 'Cluster Labels', kmeans.labels_)\ndf4.head()"
        },
        {
            "cell_type": "code",
            "execution_count": null,
            "metadata": {},
            "outputs": [],
            "source": "# create map with neghbourhood clusters\nmap_clusters = folium.Map(location=[43.651070,-79.347015],zoom_start=10)\n\n# set color scheme for the clusters\nx = np.arange(k)\nys = [i + x + (i*x)**2 for i in range(k)]\ncolors_array = cm.rainbow(np.linspace(0, 1, len(ys)))\nrainbow = [colors.rgb2hex(i) for i in colors_array]\n\n# add markers to the map\nmarkers_colors = []\nfor lat, lon, neighbourhood, cluster in zip(df4['Latitude'], df4['Longitude'], df4['Neighbourhood'], df4['Cluster Labels']):\n    label = folium.Popup(' Cluster ' + str(cluster), parse_html=True)\n    folium.CircleMarker(\n        [lat, lon],\n        radius=5,\n        popup=label,\n        color=rainbow[cluster-1],\n        fill=True,\n        fill_color=rainbow[cluster-1],\n        fill_opacity=0.7).add_to(map_clusters)\n       \nmap_clusters"
        }
    ],
    "metadata": {
        "kernelspec": {
            "display_name": "Python 3.7",
            "language": "python",
            "name": "python3"
        },
        "language_info": {
            "codemirror_mode": {
                "name": "ipython",
                "version": 3
            },
            "file_extension": ".py",
            "mimetype": "text/x-python",
            "name": "python",
            "nbconvert_exporter": "python",
            "pygments_lexer": "ipython3",
            "version": "3.7.9"
        }
    },
    "nbformat": 4,
    "nbformat_minor": 1
}