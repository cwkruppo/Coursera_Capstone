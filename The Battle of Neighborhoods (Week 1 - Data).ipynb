{
    "cells": [
        {
            "metadata": {
                "collapsed": true
            },
            "cell_type": "markdown",
            "source": "# Capstone Project - The Battle of Neighborhoods (Week 1)\n## By Chase K.\n## Data Section"
        },
        {
            "metadata": {},
            "cell_type": "markdown",
            "source": "**This notebook will be parsed out into individual sections during the first week.**\n\n*The content of this project is hypothetical, and while it addresses a real issue, the premise is fictional and is a work of academic demonstration and not necessarily a real-world solution.*\n***"
        },
        {
            "metadata": {},
            "cell_type": "markdown",
            "source": "**Brief**\n\n*Describe the data that you will be using to solve the problem or execute your idea. Remember that you will need to use the Foursquare location data to solve the problem or execute your idea. You can absolutely use other datasets in combination with the Foursquare location data. So make sure that you provide adequate explanation and discussion, with examples, of the data that you will be using, even if it is only Foursquare location data.*\n***"
        },
        {
            "metadata": {},
            "cell_type": "markdown",
            "source": "# Data Introduction"
        },
        {
            "metadata": {},
            "cell_type": "markdown",
            "source": "**To reintroduce, the problem is to find appropriate pharmacies within an appropriate distance to public transit that will serve as vaccination sites.** \n\nThe Foursquare API has location data for both pharmacies as well as train stations, though we will attempt to pull data from the state agency, <a href=\"https://www.njtransit.com/developer-tools\" target=\"_blank\">NJ Transit API</a>, as well as sources like Wikipedia to verify or enhance data. One expanded use would be to match pharmacy operating hours with that of nearby public transit schedules, the granularity of bus schedules likley requiring use of the NJ Transit API.\n\n**The stakeholders are the county/state governments requesting the *hypothetical* proposal, and ultimately the general public, who will be able to use the information to find a vaccination site near them that are accessible by public transit.**"
        },
        {
            "metadata": {},
            "cell_type": "markdown",
            "source": "# Data Requirements"
        },
        {
            "metadata": {},
            "cell_type": "markdown",
            "source": "1. **NJ Transit train stations**\n    * Data source: <a href=\"https://www.njtransit.com/developer-tools\" target=\"_blank\">NJ Transit API</a> - <a href=\"https://raw.githubusercontent.com/cwkruppo/Coursera_Capstone/master/stops.txt\" target=\"_blank\">stops.txt</a> - General Transit Feed Specification (GTFS)\n    * Description: A .txt list that can be converted in to a pandas dataframe and used to identify train stations by name, location coordinates, and a unique train stop code that will be used to identify stations within the target county.   \n    \n2. **Wikipedia List of Railway Stations in Morris County, NJ**\n    * Data source: <a href=\"https://en.wikipedia.org/wiki/Category:Railway_stations_in_Morris_County,_New_Jersey\" target=\"_blank\">Wikipedia</a>\n    * Description: A list of railway station stops in Morris County, NJ. This source can be formatted to be compared to the complete list of station data.    \n    \n3. **US Census County Data - FIPS codes**\n    * Data source: <a href=\"https://www2.census.gov/geo/docs/reference/codes/files/st34_nj_cousub.txt\" target=\"_blank\">US Census website</a> - State = 34 County = 027\n    * Description: A list of railway station stops in Morris County, NJ. This source can be formatted to be compared to the complete list of station data.    \n    \n4. **Foursquare API**\n    * Data source: <a href=\"https://developer.foursquare.com/\" target=\"_blank\">Developer Tools portal for Foursquare API</a>\n    * Description: A series of venue search calls to the API to yield the specific pharmacies within the set radius of each of the stations (Walgreens, CVS, Rite-AID; 3/4mi (1200m) from each station).\n\n**Approach**\n\nThe idea would be to cluster the pharmacies around the train stations using the specifying a radius of 1200 meters, roughly 3/4 of a mile, as described in the proposal.\n\nSince there are fewer train stations than pharmacies, using the list of stations as a reference to find suitable venues should yield the desired result. i.e. Finding pharmacies near train stations instead of finding train stations near pharmacies.\n\nUsing the Census data to map the county, the Foursquare API to pull venue data, and NJ Transit data to map the clusters of pharmacies around the stations.\n"
        },
        {
            "metadata": {},
            "cell_type": "markdown",
            "source": "# Train Station Data\n\n**The following exemplifies the import and cleaning of the train station data as imported as a .txt file, as downloaded from the NJ Transit Developer Tools portal.**"
        },
        {
            "metadata": {},
            "cell_type": "code",
            "source": "import pandas as pd\ndfstops = pd.read_table(\"https://raw.githubusercontent.com/cwkruppo/Coursera_Capstone/master/stops.txt\", sep=',', header=0)\ndfstops.head()",
            "execution_count": 1,
            "outputs": [
                {
                    "output_type": "execute_result",
                    "execution_count": 1,
                    "data": {
                        "text/plain": "   stop_id  stop_code        stop_name  stop_desc   stop_lat   stop_lon  \\\n0        1      95001    30TH ST. PHL.        NaN  39.956565 -75.182327   \n1        2      95002          ABSECON        NaN  39.424333 -74.502094   \n2        3      95003        ALLENDALE        NaN  41.030902 -74.130957   \n3        4      95004       ALLENHURST        NaN  40.237659 -74.006769   \n4        5      95005  ANDERSON STREET        NaN  40.894458 -74.043781   \n\n   zone_id  \n0     5961  \n1      333  \n2     2893  \n3     5453  \n4     1357  ",
                        "text/html": "<div>\n<style scoped>\n    .dataframe tbody tr th:only-of-type {\n        vertical-align: middle;\n    }\n\n    .dataframe tbody tr th {\n        vertical-align: top;\n    }\n\n    .dataframe thead th {\n        text-align: right;\n    }\n</style>\n<table border=\"1\" class=\"dataframe\">\n  <thead>\n    <tr style=\"text-align: right;\">\n      <th></th>\n      <th>stop_id</th>\n      <th>stop_code</th>\n      <th>stop_name</th>\n      <th>stop_desc</th>\n      <th>stop_lat</th>\n      <th>stop_lon</th>\n      <th>zone_id</th>\n    </tr>\n  </thead>\n  <tbody>\n    <tr>\n      <th>0</th>\n      <td>1</td>\n      <td>95001</td>\n      <td>30TH ST. PHL.</td>\n      <td>NaN</td>\n      <td>39.956565</td>\n      <td>-75.182327</td>\n      <td>5961</td>\n    </tr>\n    <tr>\n      <th>1</th>\n      <td>2</td>\n      <td>95002</td>\n      <td>ABSECON</td>\n      <td>NaN</td>\n      <td>39.424333</td>\n      <td>-74.502094</td>\n      <td>333</td>\n    </tr>\n    <tr>\n      <th>2</th>\n      <td>3</td>\n      <td>95003</td>\n      <td>ALLENDALE</td>\n      <td>NaN</td>\n      <td>41.030902</td>\n      <td>-74.130957</td>\n      <td>2893</td>\n    </tr>\n    <tr>\n      <th>3</th>\n      <td>4</td>\n      <td>95004</td>\n      <td>ALLENHURST</td>\n      <td>NaN</td>\n      <td>40.237659</td>\n      <td>-74.006769</td>\n      <td>5453</td>\n    </tr>\n    <tr>\n      <th>4</th>\n      <td>5</td>\n      <td>95005</td>\n      <td>ANDERSON STREET</td>\n      <td>NaN</td>\n      <td>40.894458</td>\n      <td>-74.043781</td>\n      <td>1357</td>\n    </tr>\n  </tbody>\n</table>\n</div>"
                    },
                    "metadata": {}
                }
            ]
        },
        {
            "metadata": {},
            "cell_type": "code",
            "source": "dfstops.columns",
            "execution_count": 2,
            "outputs": [
                {
                    "output_type": "execute_result",
                    "execution_count": 2,
                    "data": {
                        "text/plain": "Index(['stop_id', 'stop_code', 'stop_name', 'stop_desc', 'stop_lat',\n       'stop_lon', 'zone_id'],\n      dtype='object')"
                    },
                    "metadata": {}
                }
            ]
        },
        {
            "metadata": {},
            "cell_type": "code",
            "source": "dfstops.shape",
            "execution_count": 3,
            "outputs": [
                {
                    "output_type": "execute_result",
                    "execution_count": 3,
                    "data": {
                        "text/plain": "(228, 7)"
                    },
                    "metadata": {}
                }
            ]
        },
        {
            "metadata": {},
            "cell_type": "code",
            "source": "## Drop unwanted columns, reducing to a unique stope code, the stop name, and the stop's lat & long\ndfstops.drop(['stop_id', 'stop_desc', 'zone_id'], axis=1, inplace=True)\ndfstops.columns",
            "execution_count": 4,
            "outputs": [
                {
                    "output_type": "execute_result",
                    "execution_count": 4,
                    "data": {
                        "text/plain": "Index(['stop_code', 'stop_name', 'stop_lat', 'stop_lon'], dtype='object')"
                    },
                    "metadata": {}
                }
            ]
        },
        {
            "metadata": {},
            "cell_type": "code",
            "source": "dfstops.shape",
            "execution_count": 5,
            "outputs": [
                {
                    "output_type": "execute_result",
                    "execution_count": 5,
                    "data": {
                        "text/plain": "(228, 4)"
                    },
                    "metadata": {}
                }
            ]
        },
        {
            "metadata": {},
            "cell_type": "code",
            "source": "dfstops.head()",
            "execution_count": 6,
            "outputs": [
                {
                    "output_type": "execute_result",
                    "execution_count": 6,
                    "data": {
                        "text/plain": "   stop_code        stop_name   stop_lat   stop_lon\n0      95001    30TH ST. PHL.  39.956565 -75.182327\n1      95002          ABSECON  39.424333 -74.502094\n2      95003        ALLENDALE  41.030902 -74.130957\n3      95004       ALLENHURST  40.237659 -74.006769\n4      95005  ANDERSON STREET  40.894458 -74.043781",
                        "text/html": "<div>\n<style scoped>\n    .dataframe tbody tr th:only-of-type {\n        vertical-align: middle;\n    }\n\n    .dataframe tbody tr th {\n        vertical-align: top;\n    }\n\n    .dataframe thead th {\n        text-align: right;\n    }\n</style>\n<table border=\"1\" class=\"dataframe\">\n  <thead>\n    <tr style=\"text-align: right;\">\n      <th></th>\n      <th>stop_code</th>\n      <th>stop_name</th>\n      <th>stop_lat</th>\n      <th>stop_lon</th>\n    </tr>\n  </thead>\n  <tbody>\n    <tr>\n      <th>0</th>\n      <td>95001</td>\n      <td>30TH ST. PHL.</td>\n      <td>39.956565</td>\n      <td>-75.182327</td>\n    </tr>\n    <tr>\n      <th>1</th>\n      <td>95002</td>\n      <td>ABSECON</td>\n      <td>39.424333</td>\n      <td>-74.502094</td>\n    </tr>\n    <tr>\n      <th>2</th>\n      <td>95003</td>\n      <td>ALLENDALE</td>\n      <td>41.030902</td>\n      <td>-74.130957</td>\n    </tr>\n    <tr>\n      <th>3</th>\n      <td>95004</td>\n      <td>ALLENHURST</td>\n      <td>40.237659</td>\n      <td>-74.006769</td>\n    </tr>\n    <tr>\n      <th>4</th>\n      <td>95005</td>\n      <td>ANDERSON STREET</td>\n      <td>40.894458</td>\n      <td>-74.043781</td>\n    </tr>\n  </tbody>\n</table>\n</div>"
                    },
                    "metadata": {}
                }
            ]
        },
        {
            "metadata": {},
            "cell_type": "code",
            "source": "## Drop unwanted rows, cutting the light rail data, since our focus is on main railway stations only (and because light rail service doesn't operate in Morris County)\n#identify partial string to look for\ndfstops = dfstops[~dfstops['stop_name'].str.contains('LIGHT RAIL')]\ndfstops.shape",
            "execution_count": 10,
            "outputs": [
                {
                    "output_type": "execute_result",
                    "execution_count": 10,
                    "data": {
                        "text/plain": "(168, 4)"
                    },
                    "metadata": {}
                }
            ]
        },
        {
            "metadata": {},
            "cell_type": "code",
            "source": "dfstops",
            "execution_count": 8,
            "outputs": [
                {
                    "output_type": "execute_result",
                    "execution_count": 8,
                    "data": {
                        "text/plain": "     stop_code                           stop_name   stop_lat   stop_lon\n0        95001                       30TH ST. PHL.  39.956565 -75.182327\n1        95002                             ABSECON  39.424333 -74.502094\n2        95003                           ALLENDALE  41.030902 -74.130957\n3        95004                          ALLENHURST  40.237659 -74.006769\n4        95005                     ANDERSON STREET  40.894458 -74.043781\n..         ...                                 ...        ...        ...\n213      30824                      BERGENLINE AVE  40.782225 -74.022271\n221      95171                     MOUNT ARLINGTON  40.896590 -74.632731\n222      95172  WAYNE/ROUTE 23 TRANSIT CENTER [RR]  40.900254 -74.256971\n226      95183           PENNSAUKEN TRANSIT CENTER  39.977769 -75.061796\n227      95184                             WESMONT  40.854979 -74.096951\n\n[168 rows x 4 columns]",
                        "text/html": "<div>\n<style scoped>\n    .dataframe tbody tr th:only-of-type {\n        vertical-align: middle;\n    }\n\n    .dataframe tbody tr th {\n        vertical-align: top;\n    }\n\n    .dataframe thead th {\n        text-align: right;\n    }\n</style>\n<table border=\"1\" class=\"dataframe\">\n  <thead>\n    <tr style=\"text-align: right;\">\n      <th></th>\n      <th>stop_code</th>\n      <th>stop_name</th>\n      <th>stop_lat</th>\n      <th>stop_lon</th>\n    </tr>\n  </thead>\n  <tbody>\n    <tr>\n      <th>0</th>\n      <td>95001</td>\n      <td>30TH ST. PHL.</td>\n      <td>39.956565</td>\n      <td>-75.182327</td>\n    </tr>\n    <tr>\n      <th>1</th>\n      <td>95002</td>\n      <td>ABSECON</td>\n      <td>39.424333</td>\n      <td>-74.502094</td>\n    </tr>\n    <tr>\n      <th>2</th>\n      <td>95003</td>\n      <td>ALLENDALE</td>\n      <td>41.030902</td>\n      <td>-74.130957</td>\n    </tr>\n    <tr>\n      <th>3</th>\n      <td>95004</td>\n      <td>ALLENHURST</td>\n      <td>40.237659</td>\n      <td>-74.006769</td>\n    </tr>\n    <tr>\n      <th>4</th>\n      <td>95005</td>\n      <td>ANDERSON STREET</td>\n      <td>40.894458</td>\n      <td>-74.043781</td>\n    </tr>\n    <tr>\n      <th>...</th>\n      <td>...</td>\n      <td>...</td>\n      <td>...</td>\n      <td>...</td>\n    </tr>\n    <tr>\n      <th>213</th>\n      <td>30824</td>\n      <td>BERGENLINE AVE</td>\n      <td>40.782225</td>\n      <td>-74.022271</td>\n    </tr>\n    <tr>\n      <th>221</th>\n      <td>95171</td>\n      <td>MOUNT ARLINGTON</td>\n      <td>40.896590</td>\n      <td>-74.632731</td>\n    </tr>\n    <tr>\n      <th>222</th>\n      <td>95172</td>\n      <td>WAYNE/ROUTE 23 TRANSIT CENTER [RR]</td>\n      <td>40.900254</td>\n      <td>-74.256971</td>\n    </tr>\n    <tr>\n      <th>226</th>\n      <td>95183</td>\n      <td>PENNSAUKEN TRANSIT CENTER</td>\n      <td>39.977769</td>\n      <td>-75.061796</td>\n    </tr>\n    <tr>\n      <th>227</th>\n      <td>95184</td>\n      <td>WESMONT</td>\n      <td>40.854979</td>\n      <td>-74.096951</td>\n    </tr>\n  </tbody>\n</table>\n<p>168 rows \u00d7 4 columns</p>\n</div>"
                    },
                    "metadata": {}
                }
            ]
        },
        {
            "metadata": {},
            "cell_type": "markdown",
            "source": "# Foursquare Pharmacy Data\n\n**The following exemplifies the import and cleaning of the pharmacy data as requested through the Foursquare API.\nSpecifically, Walgreens, CVS, and Rite-Aid pharmacies within 3/4 of a mile of an NJ Transit rail station."
        },
        {
            "metadata": {},
            "cell_type": "markdown",
            "source": "# Mapping data\n"
        },
        {
            "metadata": {},
            "cell_type": "markdown",
            "source": "**At this point we have the train station names, their lat & long, as well as the original unique stop_code by which to identify them.**\n\nFrom here, we can use this data as reference points against Foursquare API data, allowing comparison between the two datasets.\n\n**The next steps are to narrow the station and pharmacy by county and then cluster the pharmacies around the distance from those stations. Finally, plotting the results on a map.**\n\n-CK Feb 2021"
        },
        {
            "metadata": {},
            "cell_type": "markdown",
            "source": "![Vaccine vials](https://c.files.bbci.co.uk/53A9/production/_115371412_gettyimages-1265248637.jpg)"
        },
        {
            "metadata": {},
            "cell_type": "code",
            "source": "",
            "execution_count": null,
            "outputs": []
        }
    ],
    "metadata": {
        "kernelspec": {
            "name": "python3",
            "display_name": "Python 3.7",
            "language": "python"
        },
        "language_info": {
            "name": "python",
            "version": "3.7.9",
            "mimetype": "text/x-python",
            "codemirror_mode": {
                "name": "ipython",
                "version": 3
            },
            "pygments_lexer": "ipython3",
            "nbconvert_exporter": "python",
            "file_extension": ".py"
        }
    },
    "nbformat": 4,
    "nbformat_minor": 1
}