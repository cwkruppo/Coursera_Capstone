{
    "cells": [
        {
            "metadata": {},
            "cell_type": "code",
            "source": "##! pip install mwclient",
            "execution_count": 2,
            "outputs": []
        },
        {
            "metadata": {},
            "cell_type": "code",
            "source": "#!/usr/bin/python3\n\n\"\"\"\n    get_category_info.py\n\n    MediaWiki API Demos\n    Demo of `Categoryinfo` module: Get information about few categories\n    MIT license\n\"\"\"\n\nimport requests\n\nS = requests.Session()\n\nURL = \"https://en.wikipedia.org/w/api.php\"\n\nPARAMS = {\n    \"action\": \"query\",\n    \"format\": \"json\",\n    \"titles\": \"Category:Railway_stations_in_Morris_County,_New_Jersey\",\n    \"prop\": \"categoryinfo\"\n}\n\nR = S.get(url=URL, params=PARAMS)\nDATA = R.json()\n\nPAGES = DATA[\"query\"][\"pages\"]\n\nfor k, v in PAGES.items():\n    print(v[\"title\"] + \" has \" + str(v[\"categoryinfo\"][\"pages\"]) + \" pages.\")",
            "execution_count": 3,
            "outputs": [
                {
                    "output_type": "stream",
                    "text": "Category:Railway stations in Morris County, New Jersey has 14 pages.\n",
                    "name": "stdout"
                }
            ]
        },
        {
            "metadata": {},
            "cell_type": "code",
            "source": "print(\"Morris County has \" + str(v[\"categoryinfo\"][\"pages\"]) + \" railway station stops.\")",
            "execution_count": 4,
            "outputs": [
                {
                    "output_type": "stream",
                    "text": "Morris County has 14 railway station stops.\n",
                    "name": "stdout"
                }
            ]
        },
        {
            "metadata": {},
            "cell_type": "code",
            "source": "print(\"The train station stops in Morris County are:\")",
            "execution_count": 5,
            "outputs": [
                {
                    "output_type": "stream",
                    "text": "The train station stops in Morris County are:\n",
                    "name": "stdout"
                }
            ]
        },
        {
            "metadata": {},
            "cell_type": "code",
            "source": "#!/usr/bin/python3\n\n\"\"\"\n    get_category_info.py\n\n    MediaWiki API Demos\n    Demo of `Categoryinfo` module: Get information about few categories\n    MIT license\n\"\"\"\n\nimport requests\n\nS = requests.Session()\n\nURL = \"https://en.wikipedia.org/w/api.php\"\n\nPARAMS = {\n    \"action\": \"query\",\n    \"format\": \"json\",\n    \"generator\": \"categorymembers\",\n    \"cmtitle\": \"Category:Railway_stations_in_Morris_County,_New_Jersey\",\n    \n}\n\nR = S.get(url=URL, params=PARAMS)\nDATA = R.json()\n\nPAGES = DATA[\"query\"][\"pages\"]\n\nfor k, v in PAGES.items():\n    print(v[\"title\"] + \" has \" + str(v[\"categoryinfo\"][\"pages\"]) + \" pages.\")",
            "execution_count": 7,
            "outputs": [
                {
                    "output_type": "error",
                    "ename": "KeyError",
                    "evalue": "'query'",
                    "traceback": [
                        "\u001b[0;31m---------------------------------------------------------------------------\u001b[0m",
                        "\u001b[0;31mKeyError\u001b[0m                                  Traceback (most recent call last)",
                        "\u001b[0;32m<ipython-input-7-fe6fb20f47a1>\u001b[0m in \u001b[0;36m<module>\u001b[0;34m\u001b[0m\n\u001b[1;32m     26\u001b[0m \u001b[0mDATA\u001b[0m \u001b[0;34m=\u001b[0m \u001b[0mR\u001b[0m\u001b[0;34m.\u001b[0m\u001b[0mjson\u001b[0m\u001b[0;34m(\u001b[0m\u001b[0;34m)\u001b[0m\u001b[0;34m\u001b[0m\u001b[0;34m\u001b[0m\u001b[0m\n\u001b[1;32m     27\u001b[0m \u001b[0;34m\u001b[0m\u001b[0m\n\u001b[0;32m---> 28\u001b[0;31m \u001b[0mPAGES\u001b[0m \u001b[0;34m=\u001b[0m \u001b[0mDATA\u001b[0m\u001b[0;34m[\u001b[0m\u001b[0;34m\"query\"\u001b[0m\u001b[0;34m]\u001b[0m\u001b[0;34m[\u001b[0m\u001b[0;34m\"pages\"\u001b[0m\u001b[0;34m]\u001b[0m\u001b[0;34m\u001b[0m\u001b[0;34m\u001b[0m\u001b[0m\n\u001b[0m\u001b[1;32m     29\u001b[0m \u001b[0;34m\u001b[0m\u001b[0m\n\u001b[1;32m     30\u001b[0m \u001b[0;32mfor\u001b[0m \u001b[0mk\u001b[0m\u001b[0;34m,\u001b[0m \u001b[0mv\u001b[0m \u001b[0;32min\u001b[0m \u001b[0mPAGES\u001b[0m\u001b[0;34m.\u001b[0m\u001b[0mitems\u001b[0m\u001b[0;34m(\u001b[0m\u001b[0;34m)\u001b[0m\u001b[0;34m:\u001b[0m\u001b[0;34m\u001b[0m\u001b[0;34m\u001b[0m\u001b[0m\n",
                        "\u001b[0;31mKeyError\u001b[0m: 'query'"
                    ]
                }
            ]
        },
        {
            "metadata": {},
            "cell_type": "code",
            "source": "## Import train station stop name list from Wikipedia API\n#!/usr/bin/python3\n\n\"\"\"\n    get_subcategories.py\n\n    MediaWiki API Demos\n    Demo of `Categorymembers` module : Get ten subcategories of a category\n\n    MIT License\n\"\"\"\n\nimport requests\n\nS = requests.Session()\n\nURL = \"https://en.wikipedia.org/w/api.php\"\n\nPARAMS = {\n    \"action\": \"query\",\n    \"cmtitle\": \"Category:Railway_stations_in_Morris_County,_New_Jersey\",\n    \"cmtype\": \"page\",\n    \"list\": \"categorymembers\",\n    \"cmlimit\": \"max\",\n    \"format\": \"json\"\n}\n\nR = S.get(url=URL, params=PARAMS)\nDATA = R.json()\n\nPAGES = DATA[\"query\"][\"categorymembers\"]\n\nfor page in PAGES:\n    print(page[\"title\"])",
            "execution_count": 8,
            "outputs": [
                {
                    "output_type": "stream",
                    "text": "Boonton station\nButler station (New Jersey)\nConvent Station (NJ Transit)\nDover station (NJ Transit)\nLake Hopatcong station\nMadison station (NJ Transit)\nMillington station\nMorris Plains station\nMorristown station\nMount Arlington station\nMount Tabor station\nNewfoundland station (New York, Susquehanna and Western Railroad)\nPompton Plains station\nTowaco station\n",
                    "name": "stdout"
                }
            ]
        },
        {
            "metadata": {},
            "cell_type": "code",
            "source": "PAGES",
            "execution_count": 9,
            "outputs": [
                {
                    "output_type": "execute_result",
                    "execution_count": 9,
                    "data": {
                        "text/plain": "[{'pageid': 5829570, 'ns': 0, 'title': 'Boonton station'},\n {'pageid': 26677860, 'ns': 0, 'title': 'Butler station (New Jersey)'},\n {'pageid': 3718192, 'ns': 0, 'title': 'Convent Station (NJ Transit)'},\n {'pageid': 5816657, 'ns': 0, 'title': 'Dover station (NJ Transit)'},\n {'pageid': 5817222, 'ns': 0, 'title': 'Lake Hopatcong station'},\n {'pageid': 5816296, 'ns': 0, 'title': 'Madison station (NJ Transit)'},\n {'pageid': 5817422, 'ns': 0, 'title': 'Millington station'},\n {'pageid': 5816408, 'ns': 0, 'title': 'Morris Plains station'},\n {'pageid': 3725064, 'ns': 0, 'title': 'Morristown station'},\n {'pageid': 5816716, 'ns': 0, 'title': 'Mount Arlington station'},\n {'pageid': 5816442, 'ns': 0, 'title': 'Mount Tabor station'},\n {'pageid': 51614160,\n  'ns': 0,\n  'title': 'Newfoundland station (New York, Susquehanna and Western Railroad)'},\n {'pageid': 26677894, 'ns': 0, 'title': 'Pompton Plains station'},\n {'pageid': 5829539, 'ns': 0, 'title': 'Towaco station'}]"
                    },
                    "metadata": {}
                }
            ]
        },
        {
            "metadata": {},
            "cell_type": "code",
            "source": "wikilist = PAGES\nwikilist",
            "execution_count": 10,
            "outputs": [
                {
                    "output_type": "execute_result",
                    "execution_count": 10,
                    "data": {
                        "text/plain": "[{'pageid': 5829570, 'ns': 0, 'title': 'Boonton station'},\n {'pageid': 26677860, 'ns': 0, 'title': 'Butler station (New Jersey)'},\n {'pageid': 3718192, 'ns': 0, 'title': 'Convent Station (NJ Transit)'},\n {'pageid': 5816657, 'ns': 0, 'title': 'Dover station (NJ Transit)'},\n {'pageid': 5817222, 'ns': 0, 'title': 'Lake Hopatcong station'},\n {'pageid': 5816296, 'ns': 0, 'title': 'Madison station (NJ Transit)'},\n {'pageid': 5817422, 'ns': 0, 'title': 'Millington station'},\n {'pageid': 5816408, 'ns': 0, 'title': 'Morris Plains station'},\n {'pageid': 3725064, 'ns': 0, 'title': 'Morristown station'},\n {'pageid': 5816716, 'ns': 0, 'title': 'Mount Arlington station'},\n {'pageid': 5816442, 'ns': 0, 'title': 'Mount Tabor station'},\n {'pageid': 51614160,\n  'ns': 0,\n  'title': 'Newfoundland station (New York, Susquehanna and Western Railroad)'},\n {'pageid': 26677894, 'ns': 0, 'title': 'Pompton Plains station'},\n {'pageid': 5829539, 'ns': 0, 'title': 'Towaco station'}]"
                    },
                    "metadata": {}
                }
            ]
        },
        {
            "metadata": {},
            "cell_type": "code",
            "source": "from pandas import DataFrame\n\ndfwiki = wikilist\n\ndfwiki = DataFrame (dfwiki,columns=['pageid','ns','title'])\ndfwiki.drop(['pageid', 'ns'], axis=1, inplace=True)\ndfwiki.rename(columns={'title': 'stop_name'}, inplace=True)\ndfwiki",
            "execution_count": 11,
            "outputs": [
                {
                    "output_type": "execute_result",
                    "execution_count": 11,
                    "data": {
                        "text/plain": "                                            stop_name\n0                                     Boonton station\n1                         Butler station (New Jersey)\n2                        Convent Station (NJ Transit)\n3                          Dover station (NJ Transit)\n4                              Lake Hopatcong station\n5                        Madison station (NJ Transit)\n6                                  Millington station\n7                               Morris Plains station\n8                                  Morristown station\n9                             Mount Arlington station\n10                                Mount Tabor station\n11  Newfoundland station (New York, Susquehanna an...\n12                             Pompton Plains station\n13                                     Towaco station",
                        "text/html": "<div>\n<style scoped>\n    .dataframe tbody tr th:only-of-type {\n        vertical-align: middle;\n    }\n\n    .dataframe tbody tr th {\n        vertical-align: top;\n    }\n\n    .dataframe thead th {\n        text-align: right;\n    }\n</style>\n<table border=\"1\" class=\"dataframe\">\n  <thead>\n    <tr style=\"text-align: right;\">\n      <th></th>\n      <th>stop_name</th>\n    </tr>\n  </thead>\n  <tbody>\n    <tr>\n      <th>0</th>\n      <td>Boonton station</td>\n    </tr>\n    <tr>\n      <th>1</th>\n      <td>Butler station (New Jersey)</td>\n    </tr>\n    <tr>\n      <th>2</th>\n      <td>Convent Station (NJ Transit)</td>\n    </tr>\n    <tr>\n      <th>3</th>\n      <td>Dover station (NJ Transit)</td>\n    </tr>\n    <tr>\n      <th>4</th>\n      <td>Lake Hopatcong station</td>\n    </tr>\n    <tr>\n      <th>5</th>\n      <td>Madison station (NJ Transit)</td>\n    </tr>\n    <tr>\n      <th>6</th>\n      <td>Millington station</td>\n    </tr>\n    <tr>\n      <th>7</th>\n      <td>Morris Plains station</td>\n    </tr>\n    <tr>\n      <th>8</th>\n      <td>Morristown station</td>\n    </tr>\n    <tr>\n      <th>9</th>\n      <td>Mount Arlington station</td>\n    </tr>\n    <tr>\n      <th>10</th>\n      <td>Mount Tabor station</td>\n    </tr>\n    <tr>\n      <th>11</th>\n      <td>Newfoundland station (New York, Susquehanna an...</td>\n    </tr>\n    <tr>\n      <th>12</th>\n      <td>Pompton Plains station</td>\n    </tr>\n    <tr>\n      <th>13</th>\n      <td>Towaco station</td>\n    </tr>\n  </tbody>\n</table>\n</div>"
                    },
                    "metadata": {}
                }
            ]
        },
        {
            "metadata": {},
            "cell_type": "code",
            "source": "## Remove non-NJ Transit stations and clean up name",
            "execution_count": 12,
            "outputs": []
        },
        {
            "metadata": {},
            "cell_type": "code",
            "source": "dfwiki = dfwiki[~dfwiki['stop_name'].str.contains('Railroad')]\ndfwiki['stop_name'] = dfwiki['stop_name'].str.upper()\ndfwiki",
            "execution_count": 13,
            "outputs": [
                {
                    "output_type": "stream",
                    "text": "/opt/conda/envs/Python-3.7-main/lib/python3.7/site-packages/ipykernel/__main__.py:2: SettingWithCopyWarning: \nA value is trying to be set on a copy of a slice from a DataFrame.\nTry using .loc[row_indexer,col_indexer] = value instead\n\nSee the caveats in the documentation: https://pandas.pydata.org/pandas-docs/stable/user_guide/indexing.html#returning-a-view-versus-a-copy\n  from ipykernel import kernelapp as app\n",
                    "name": "stderr"
                },
                {
                    "output_type": "execute_result",
                    "execution_count": 13,
                    "data": {
                        "text/plain": "                       stop_name\n0                BOONTON STATION\n1    BUTLER STATION (NEW JERSEY)\n2   CONVENT STATION (NJ TRANSIT)\n3     DOVER STATION (NJ TRANSIT)\n4         LAKE HOPATCONG STATION\n5   MADISON STATION (NJ TRANSIT)\n6             MILLINGTON STATION\n7          MORRIS PLAINS STATION\n8             MORRISTOWN STATION\n9        MOUNT ARLINGTON STATION\n10           MOUNT TABOR STATION\n12        POMPTON PLAINS STATION\n13                TOWACO STATION",
                        "text/html": "<div>\n<style scoped>\n    .dataframe tbody tr th:only-of-type {\n        vertical-align: middle;\n    }\n\n    .dataframe tbody tr th {\n        vertical-align: top;\n    }\n\n    .dataframe thead th {\n        text-align: right;\n    }\n</style>\n<table border=\"1\" class=\"dataframe\">\n  <thead>\n    <tr style=\"text-align: right;\">\n      <th></th>\n      <th>stop_name</th>\n    </tr>\n  </thead>\n  <tbody>\n    <tr>\n      <th>0</th>\n      <td>BOONTON STATION</td>\n    </tr>\n    <tr>\n      <th>1</th>\n      <td>BUTLER STATION (NEW JERSEY)</td>\n    </tr>\n    <tr>\n      <th>2</th>\n      <td>CONVENT STATION (NJ TRANSIT)</td>\n    </tr>\n    <tr>\n      <th>3</th>\n      <td>DOVER STATION (NJ TRANSIT)</td>\n    </tr>\n    <tr>\n      <th>4</th>\n      <td>LAKE HOPATCONG STATION</td>\n    </tr>\n    <tr>\n      <th>5</th>\n      <td>MADISON STATION (NJ TRANSIT)</td>\n    </tr>\n    <tr>\n      <th>6</th>\n      <td>MILLINGTON STATION</td>\n    </tr>\n    <tr>\n      <th>7</th>\n      <td>MORRIS PLAINS STATION</td>\n    </tr>\n    <tr>\n      <th>8</th>\n      <td>MORRISTOWN STATION</td>\n    </tr>\n    <tr>\n      <th>9</th>\n      <td>MOUNT ARLINGTON STATION</td>\n    </tr>\n    <tr>\n      <th>10</th>\n      <td>MOUNT TABOR STATION</td>\n    </tr>\n    <tr>\n      <th>12</th>\n      <td>POMPTON PLAINS STATION</td>\n    </tr>\n    <tr>\n      <th>13</th>\n      <td>TOWACO STATION</td>\n    </tr>\n  </tbody>\n</table>\n</div>"
                    },
                    "metadata": {}
                }
            ]
        },
        {
            "metadata": {},
            "cell_type": "code",
            "source": "## split and remove partial string from \" station....\"",
            "execution_count": 14,
            "outputs": []
        },
        {
            "metadata": {},
            "cell_type": "code",
            "source": "dfwiki = dfwiki.stop_name.str.replace(' STATION.*', '')\ndfwiki",
            "execution_count": 15,
            "outputs": [
                {
                    "output_type": "execute_result",
                    "execution_count": 15,
                    "data": {
                        "text/plain": "0             BOONTON\n1              BUTLER\n2             CONVENT\n3               DOVER\n4      LAKE HOPATCONG\n5             MADISON\n6          MILLINGTON\n7       MORRIS PLAINS\n8          MORRISTOWN\n9     MOUNT ARLINGTON\n10        MOUNT TABOR\n12     POMPTON PLAINS\n13             TOWACO\nName: stop_name, dtype: object"
                    },
                    "metadata": {}
                }
            ]
        },
        {
            "metadata": {},
            "cell_type": "code",
            "source": "## import station data from NJ Transit\nimport pandas as pd\ndfstops = pd.read_table(\"https://raw.githubusercontent.com/cwkruppo/Coursera_Capstone/master/stops.txt\", sep=',', header=0)\ndfstops.drop(['stop_id', 'stop_desc', 'zone_id'], axis=1, inplace=True)\ndfstops = dfstops[~dfstops['stop_name'].str.contains('LIGHT RAIL')]\ndfstops",
            "execution_count": 16,
            "outputs": [
                {
                    "output_type": "execute_result",
                    "execution_count": 16,
                    "data": {
                        "text/plain": "     stop_code                           stop_name   stop_lat   stop_lon\n0        95001                       30TH ST. PHL.  39.956565 -75.182327\n1        95002                             ABSECON  39.424333 -74.502094\n2        95003                           ALLENDALE  41.030902 -74.130957\n3        95004                          ALLENHURST  40.237659 -74.006769\n4        95005                     ANDERSON STREET  40.894458 -74.043781\n..         ...                                 ...        ...        ...\n213      30824                      BERGENLINE AVE  40.782225 -74.022271\n221      95171                     MOUNT ARLINGTON  40.896590 -74.632731\n222      95172  WAYNE/ROUTE 23 TRANSIT CENTER [RR]  40.900254 -74.256971\n226      95183           PENNSAUKEN TRANSIT CENTER  39.977769 -75.061796\n227      95184                             WESMONT  40.854979 -74.096951\n\n[168 rows x 4 columns]",
                        "text/html": "<div>\n<style scoped>\n    .dataframe tbody tr th:only-of-type {\n        vertical-align: middle;\n    }\n\n    .dataframe tbody tr th {\n        vertical-align: top;\n    }\n\n    .dataframe thead th {\n        text-align: right;\n    }\n</style>\n<table border=\"1\" class=\"dataframe\">\n  <thead>\n    <tr style=\"text-align: right;\">\n      <th></th>\n      <th>stop_code</th>\n      <th>stop_name</th>\n      <th>stop_lat</th>\n      <th>stop_lon</th>\n    </tr>\n  </thead>\n  <tbody>\n    <tr>\n      <th>0</th>\n      <td>95001</td>\n      <td>30TH ST. PHL.</td>\n      <td>39.956565</td>\n      <td>-75.182327</td>\n    </tr>\n    <tr>\n      <th>1</th>\n      <td>95002</td>\n      <td>ABSECON</td>\n      <td>39.424333</td>\n      <td>-74.502094</td>\n    </tr>\n    <tr>\n      <th>2</th>\n      <td>95003</td>\n      <td>ALLENDALE</td>\n      <td>41.030902</td>\n      <td>-74.130957</td>\n    </tr>\n    <tr>\n      <th>3</th>\n      <td>95004</td>\n      <td>ALLENHURST</td>\n      <td>40.237659</td>\n      <td>-74.006769</td>\n    </tr>\n    <tr>\n      <th>4</th>\n      <td>95005</td>\n      <td>ANDERSON STREET</td>\n      <td>40.894458</td>\n      <td>-74.043781</td>\n    </tr>\n    <tr>\n      <th>...</th>\n      <td>...</td>\n      <td>...</td>\n      <td>...</td>\n      <td>...</td>\n    </tr>\n    <tr>\n      <th>213</th>\n      <td>30824</td>\n      <td>BERGENLINE AVE</td>\n      <td>40.782225</td>\n      <td>-74.022271</td>\n    </tr>\n    <tr>\n      <th>221</th>\n      <td>95171</td>\n      <td>MOUNT ARLINGTON</td>\n      <td>40.896590</td>\n      <td>-74.632731</td>\n    </tr>\n    <tr>\n      <th>222</th>\n      <td>95172</td>\n      <td>WAYNE/ROUTE 23 TRANSIT CENTER [RR]</td>\n      <td>40.900254</td>\n      <td>-74.256971</td>\n    </tr>\n    <tr>\n      <th>226</th>\n      <td>95183</td>\n      <td>PENNSAUKEN TRANSIT CENTER</td>\n      <td>39.977769</td>\n      <td>-75.061796</td>\n    </tr>\n    <tr>\n      <th>227</th>\n      <td>95184</td>\n      <td>WESMONT</td>\n      <td>40.854979</td>\n      <td>-74.096951</td>\n    </tr>\n  </tbody>\n</table>\n<p>168 rows \u00d7 4 columns</p>\n</div>"
                    },
                    "metadata": {}
                }
            ]
        },
        {
            "metadata": {},
            "cell_type": "code",
            "source": "## Merge list of stations from NJ Transit with list of county stations from Wikipedia\nmergedstops = pd.merge(left=dfstops, right=dfwiki, left_on='stop_name', right_on='stop_name')\nmergedstops",
            "execution_count": 17,
            "outputs": [
                {
                    "output_type": "execute_result",
                    "execution_count": 17,
                    "data": {
                        "text/plain": "    stop_code        stop_name   stop_lat   stop_lon\n0       95020          BOONTON  40.903378 -74.407736\n1       95030          CONVENT  40.779038 -74.443435\n2       95035            DOVER  40.883415 -74.555887\n3       95067   LAKE HOPATCONG  40.904219 -74.665697\n4       95077          MADISON  40.757028 -74.415105\n5       95088       MILLINGTON  40.673513 -74.523606\n6       95091    MORRIS PLAINS  40.828637 -74.478197\n7       95092       MORRISTOWN  40.797113 -74.474086\n8       95094      MOUNT TABOR  40.875904 -74.481915\n9       95147           TOWACO  40.922809 -74.343842\n10      95171  MOUNT ARLINGTON  40.896590 -74.632731",
                        "text/html": "<div>\n<style scoped>\n    .dataframe tbody tr th:only-of-type {\n        vertical-align: middle;\n    }\n\n    .dataframe tbody tr th {\n        vertical-align: top;\n    }\n\n    .dataframe thead th {\n        text-align: right;\n    }\n</style>\n<table border=\"1\" class=\"dataframe\">\n  <thead>\n    <tr style=\"text-align: right;\">\n      <th></th>\n      <th>stop_code</th>\n      <th>stop_name</th>\n      <th>stop_lat</th>\n      <th>stop_lon</th>\n    </tr>\n  </thead>\n  <tbody>\n    <tr>\n      <th>0</th>\n      <td>95020</td>\n      <td>BOONTON</td>\n      <td>40.903378</td>\n      <td>-74.407736</td>\n    </tr>\n    <tr>\n      <th>1</th>\n      <td>95030</td>\n      <td>CONVENT</td>\n      <td>40.779038</td>\n      <td>-74.443435</td>\n    </tr>\n    <tr>\n      <th>2</th>\n      <td>95035</td>\n      <td>DOVER</td>\n      <td>40.883415</td>\n      <td>-74.555887</td>\n    </tr>\n    <tr>\n      <th>3</th>\n      <td>95067</td>\n      <td>LAKE HOPATCONG</td>\n      <td>40.904219</td>\n      <td>-74.665697</td>\n    </tr>\n    <tr>\n      <th>4</th>\n      <td>95077</td>\n      <td>MADISON</td>\n      <td>40.757028</td>\n      <td>-74.415105</td>\n    </tr>\n    <tr>\n      <th>5</th>\n      <td>95088</td>\n      <td>MILLINGTON</td>\n      <td>40.673513</td>\n      <td>-74.523606</td>\n    </tr>\n    <tr>\n      <th>6</th>\n      <td>95091</td>\n      <td>MORRIS PLAINS</td>\n      <td>40.828637</td>\n      <td>-74.478197</td>\n    </tr>\n    <tr>\n      <th>7</th>\n      <td>95092</td>\n      <td>MORRISTOWN</td>\n      <td>40.797113</td>\n      <td>-74.474086</td>\n    </tr>\n    <tr>\n      <th>8</th>\n      <td>95094</td>\n      <td>MOUNT TABOR</td>\n      <td>40.875904</td>\n      <td>-74.481915</td>\n    </tr>\n    <tr>\n      <th>9</th>\n      <td>95147</td>\n      <td>TOWACO</td>\n      <td>40.922809</td>\n      <td>-74.343842</td>\n    </tr>\n    <tr>\n      <th>10</th>\n      <td>95171</td>\n      <td>MOUNT ARLINGTON</td>\n      <td>40.896590</td>\n      <td>-74.632731</td>\n    </tr>\n  </tbody>\n</table>\n</div>"
                    },
                    "metadata": {}
                }
            ]
        },
        {
            "metadata": {},
            "cell_type": "code",
            "source": "print(\"Morris County has \" + str(len(mergedstops.index)) + \" public train station stops.\")",
            "execution_count": 18,
            "outputs": [
                {
                    "output_type": "stream",
                    "text": "Morris County has 11 public train station stops.\n",
                    "name": "stdout"
                }
            ]
        },
        {
            "metadata": {},
            "cell_type": "code",
            "source": "## Import necessary libraries\nimport requests # library to handle requests\nimport pandas as pd # library for data analsysis\nimport numpy as np # library to handle data in a vectorized manner\nimport random # library for random number generation\n\n\n!pip install geopy\nfrom geopy.geocoders import Nominatim # module to convert an address into latitude and longitude values\n\n# libraries for displaying images\nfrom IPython.display import Image \nfrom IPython.core.display import HTML \n    \n# tranforming json file into a pandas dataframe library\nfrom pandas.io.json import json_normalize\n\n\n! pip install folium==0.5.0\nimport folium # plotting library\n\nprint('Folium installed')\nprint('Libraries imported.')",
            "execution_count": 19,
            "outputs": [
                {
                    "output_type": "stream",
                    "text": "Requirement already satisfied: geopy in /opt/conda/envs/Python-3.7-main/lib/python3.7/site-packages (2.0.0)\nRequirement already satisfied: geographiclib<2,>=1.49 in /opt/conda/envs/Python-3.7-main/lib/python3.7/site-packages (from geopy) (1.50)\nCollecting folium==0.5.0\n  Downloading folium-0.5.0.tar.gz (79 kB)\n\u001b[K     |\u2588\u2588\u2588\u2588\u2588\u2588\u2588\u2588\u2588\u2588\u2588\u2588\u2588\u2588\u2588\u2588\u2588\u2588\u2588\u2588\u2588\u2588\u2588\u2588\u2588\u2588\u2588\u2588\u2588\u2588\u2588\u2588| 79 kB 10.3 MB/s eta 0:00:01\n\u001b[?25hCollecting branca\n  Downloading branca-0.4.2-py3-none-any.whl (24 kB)\nRequirement already satisfied: jinja2 in /opt/conda/envs/Python-3.7-main/lib/python3.7/site-packages (from folium==0.5.0) (2.11.2)\nRequirement already satisfied: requests in /opt/conda/envs/Python-3.7-main/lib/python3.7/site-packages (from folium==0.5.0) (2.24.0)\nRequirement already satisfied: six in /opt/conda/envs/Python-3.7-main/lib/python3.7/site-packages (from folium==0.5.0) (1.15.0)\nRequirement already satisfied: MarkupSafe>=0.23 in /opt/conda/envs/Python-3.7-main/lib/python3.7/site-packages (from jinja2->folium==0.5.0) (1.1.1)\nRequirement already satisfied: urllib3!=1.25.0,!=1.25.1,<1.26,>=1.21.1 in /opt/conda/envs/Python-3.7-main/lib/python3.7/site-packages (from requests->folium==0.5.0) (1.25.9)\nRequirement already satisfied: chardet<4,>=3.0.2 in /opt/conda/envs/Python-3.7-main/lib/python3.7/site-packages (from requests->folium==0.5.0) (3.0.4)\nRequirement already satisfied: certifi>=2017.4.17 in /opt/conda/envs/Python-3.7-main/lib/python3.7/site-packages (from requests->folium==0.5.0) (2020.12.5)\nRequirement already satisfied: idna<3,>=2.5 in /opt/conda/envs/Python-3.7-main/lib/python3.7/site-packages (from requests->folium==0.5.0) (2.9)\nBuilding wheels for collected packages: folium\n  Building wheel for folium (setup.py) ... \u001b[?25ldone\n\u001b[?25h  Created wheel for folium: filename=folium-0.5.0-py3-none-any.whl size=76240 sha256=8baed1dc7df15f040bf926f88862958236440a002a3ba6b10ddb2a063051ca1b\n  Stored in directory: /tmp/wsuser/.cache/pip/wheels/b2/2f/2c/109e446b990d663ea5ce9b078b5e7c1a9c45cca91f377080f8\nSuccessfully built folium\nInstalling collected packages: branca, folium\nSuccessfully installed branca-0.4.2 folium-0.5.0\nFolium installed\nLibraries imported.\n",
                    "name": "stdout"
                }
            ]
        },
        {
            "metadata": {
                "scrolled": true
            },
            "cell_type": "code",
            "source": "# @hidden_cell\n\nCLIENT_ID = 'BCLLIS3FHZXMBORMFLCQMYFH1YDVZVO0F2BMJ4KONFEAZ021' # your Foursquare ID\nCLIENT_SECRET = 'ZYUFKQJASGY1DKGUDNMJJH0FJFSV11NPAS22IFXIHS5OPD5F' # your Foursquare Secret\n##code SQV35FLC2CIZWHSASCFI4MXNKDJC1MAT5DX3IDLJJMMT3BRN\nACCESS_TOKEN = 'WDVVTN0TFM1FIZRC2BJOLJYYVQJ2PJVWJ22HFU1BOFCHJ4HZ' # your FourSquare Access Token\nVERSION = '20180604'\nLIMIT = 50\nprint('Foursquare API credentials submitted via hidden cell')",
            "execution_count": 20,
            "outputs": [
                {
                    "output_type": "stream",
                    "text": "Foursquare API credentials submitted via hidden cell\n",
                    "name": "stdout"
                }
            ]
        },
        {
            "metadata": {},
            "cell_type": "code",
            "source": "mergedstops.stop_lat",
            "execution_count": 21,
            "outputs": [
                {
                    "output_type": "execute_result",
                    "execution_count": 21,
                    "data": {
                        "text/plain": "0     40.903378\n1     40.779038\n2     40.883415\n3     40.904219\n4     40.757028\n5     40.673513\n6     40.828637\n7     40.797113\n8     40.875904\n9     40.922809\n10    40.896590\nName: stop_lat, dtype: float64"
                    },
                    "metadata": {}
                }
            ]
        },
        {
            "metadata": {},
            "cell_type": "code",
            "source": "mergedstops.stop_lon",
            "execution_count": 22,
            "outputs": [
                {
                    "output_type": "execute_result",
                    "execution_count": 22,
                    "data": {
                        "text/plain": "0    -74.407736\n1    -74.443435\n2    -74.555887\n3    -74.665697\n4    -74.415105\n5    -74.523606\n6    -74.478197\n7    -74.474086\n8    -74.481915\n9    -74.343842\n10   -74.632731\nName: stop_lon, dtype: float64"
                    },
                    "metadata": {}
                }
            ]
        },
        {
            "metadata": {},
            "cell_type": "code",
            "source": "mergedstops.iloc[0,2]",
            "execution_count": 23,
            "outputs": [
                {
                    "output_type": "execute_result",
                    "execution_count": 23,
                    "data": {
                        "text/plain": "40.903378000000004"
                    },
                    "metadata": {}
                }
            ]
        },
        {
            "metadata": {},
            "cell_type": "code",
            "source": "## name origin location\n##address = '102 North End Ave, New York, NY'\n\n##geolocator = Nominatim(user_agent=\"foursquare_agent\")\n##location = geolocator.geocode(address)\nlatitude = mergedstops.iloc[0,2]\nlongitude = mergedstops.iloc[0,3]\nprint(latitude, longitude)",
            "execution_count": 24,
            "outputs": [
                {
                    "output_type": "stream",
                    "text": "40.903378000000004 -74.407736\n",
                    "name": "stdout"
                }
            ]
        },
        {
            "metadata": {},
            "cell_type": "code",
            "source": "## name search parameters\nsearch_query = 'Pharmacy'\nradius = 1200\nprint(search_query + ' .... OK!')",
            "execution_count": 25,
            "outputs": [
                {
                    "output_type": "stream",
                    "text": "Pharmacy .... OK!\n",
                    "name": "stdout"
                }
            ]
        },
        {
            "metadata": {},
            "cell_type": "code",
            "source": "## define corresponding URL\nurl = 'https://api.foursquare.com/v2/venues/search?client_id={}&client_secret={}&ll={},{}&oauth_token={}&v={}&query={}&radius={}&limit={}'.format(CLIENT_ID, CLIENT_SECRET, latitude, longitude,ACCESS_TOKEN, VERSION, search_query, radius, LIMIT)\nurl",
            "execution_count": 26,
            "outputs": [
                {
                    "output_type": "execute_result",
                    "execution_count": 26,
                    "data": {
                        "text/plain": "'https://api.foursquare.com/v2/venues/search?client_id=BCLLIS3FHZXMBORMFLCQMYFH1YDVZVO0F2BMJ4KONFEAZ021&client_secret=ZYUFKQJASGY1DKGUDNMJJH0FJFSV11NPAS22IFXIHS5OPD5F&ll=40.903378000000004,-74.407736&oauth_token=WDVVTN0TFM1FIZRC2BJOLJYYVQJ2PJVWJ22HFU1BOFCHJ4HZ&v=20180604&query=Pharmacy&radius=1200&limit=50'"
                    },
                    "metadata": {}
                }
            ]
        },
        {
            "metadata": {},
            "cell_type": "code",
            "source": "## Send GET request and view results\nresults = requests.get(url).json()\nresults",
            "execution_count": 27,
            "outputs": [
                {
                    "output_type": "execute_result",
                    "execution_count": 27,
                    "data": {
                        "text/plain": "{'meta': {'code': 200, 'requestId': '60341c5eb94d86186e11dcb0'},\n 'notifications': [{'type': 'notificationTray', 'item': {'unreadCount': 4}}],\n 'response': {'venues': [{'id': '53ee6b14498e3f80478ab582',\n    'name': 'Main Pharmacy of Boonton Inc',\n    'location': {'address': '203 Main St',\n     'lat': 40.902988,\n     'lng': -74.407515,\n     'labeledLatLngs': [{'label': 'display',\n       'lat': 40.902988,\n       'lng': -74.407515}],\n     'distance': 47,\n     'postalCode': '07005',\n     'cc': 'US',\n     'city': 'Boonton',\n     'state': 'NJ',\n     'country': 'United States',\n     'formattedAddress': ['203 Main St', 'Boonton, NJ 07005']},\n    'categories': [{'id': '4bf58dd8d48988d10f951735',\n      'name': 'Pharmacy',\n      'pluralName': 'Pharmacies',\n      'shortName': 'Pharmacy',\n      'icon': {'prefix': 'https://ss3.4sqi.net/img/categories_v2/shops/pharmacy_',\n       'suffix': '.png'},\n      'primary': True}],\n    'venuePage': {'id': '92783166'},\n    'referralId': 'v-1614027870',\n    'hasPerk': False},\n   {'id': '519ea889498e2aeede6c7064',\n    'name': 'Walmart Pharmacy',\n    'location': {'address': '300 Wootton St',\n     'lat': 40.90802038232041,\n     'lng': -74.40400693368525,\n     'labeledLatLngs': [{'label': 'display',\n       'lat': 40.90802038232041,\n       'lng': -74.40400693368525}],\n     'distance': 604,\n     'postalCode': '07005',\n     'cc': 'US',\n     'city': 'Boonton',\n     'state': 'NJ',\n     'country': 'United States',\n     'formattedAddress': ['300 Wootton St', 'Boonton, NJ 07005']},\n    'categories': [{'id': '4bf58dd8d48988d10f951735',\n      'name': 'Pharmacy',\n      'pluralName': 'Pharmacies',\n      'shortName': 'Pharmacy',\n      'icon': {'prefix': 'https://ss3.4sqi.net/img/categories_v2/shops/pharmacy_',\n       'suffix': '.png'},\n      'primary': True}],\n    'referralId': 'v-1614027870',\n    'hasPerk': False},\n   {'id': '5862df078190793ef71939f9',\n    'name': 'ACME Markets Pharmacy',\n    'location': {'address': '550 Myrtle Ave',\n     'lat': 40.9085806,\n     'lng': -74.3969249,\n     'labeledLatLngs': [{'label': 'display',\n       'lat': 40.9085806,\n       'lng': -74.3969249}],\n     'distance': 1078,\n     'postalCode': '07005',\n     'cc': 'US',\n     'city': 'Boonton',\n     'state': 'NJ',\n     'country': 'United States',\n     'formattedAddress': ['550 Myrtle Ave', 'Boonton, NJ 07005']},\n    'categories': [{'id': '4bf58dd8d48988d10f951735',\n      'name': 'Pharmacy',\n      'pluralName': 'Pharmacies',\n      'shortName': 'Pharmacy',\n      'icon': {'prefix': 'https://ss3.4sqi.net/img/categories_v2/shops/pharmacy_',\n       'suffix': '.png'},\n      'primary': True}],\n    'referralId': 'v-1614027870',\n    'hasPerk': False},\n   {'id': '4b799819f964a5201a042fe3',\n    'name': 'Walmart',\n    'location': {'address': '300 Wootton St',\n     'lat': 40.907510211312626,\n     'lng': -74.40394923649639,\n     'labeledLatLngs': [{'label': 'display',\n       'lat': 40.907510211312626,\n       'lng': -74.40394923649639}],\n     'distance': 559,\n     'postalCode': '07005',\n     'cc': 'US',\n     'city': 'Boonton',\n     'state': 'NJ',\n     'country': 'United States',\n     'formattedAddress': ['300 Wootton St', 'Boonton, NJ 07005']},\n    'categories': [{'id': '52f2ab2ebcbc57f1066b8b42',\n      'name': 'Big Box Store',\n      'pluralName': 'Big Box Stores',\n      'shortName': 'Big Box Store',\n      'icon': {'prefix': 'https://ss3.4sqi.net/img/categories_v2/shops/default_',\n       'suffix': '.png'},\n      'primary': True}],\n    'referralId': 'v-1614027870',\n    'hasPerk': False}]}}"
                    },
                    "metadata": {}
                }
            ]
        },
        {
            "metadata": {},
            "cell_type": "code",
            "source": "## Convert to pandas dataframe\n# assign relevant part of JSON to venues\nvenues = results['response']['venues']\n\n# tranform venues into a dataframe\ndataframe = json_normalize(venues)\ndataframe.head()",
            "execution_count": 28,
            "outputs": [
                {
                    "output_type": "stream",
                    "text": "/opt/conda/envs/Python-3.7-main/lib/python3.7/site-packages/ipykernel/__main__.py:6: FutureWarning: pandas.io.json.json_normalize is deprecated, use pandas.json_normalize instead\n",
                    "name": "stderr"
                },
                {
                    "output_type": "execute_result",
                    "execution_count": 28,
                    "data": {
                        "text/plain": "                         id                          name  \\\n0  53ee6b14498e3f80478ab582  Main Pharmacy of Boonton Inc   \n1  519ea889498e2aeede6c7064              Walmart Pharmacy   \n2  5862df078190793ef71939f9         ACME Markets Pharmacy   \n3  4b799819f964a5201a042fe3                       Walmart   \n\n                                          categories    referralId  hasPerk  \\\n0  [{'id': '4bf58dd8d48988d10f951735', 'name': 'P...  v-1614027870    False   \n1  [{'id': '4bf58dd8d48988d10f951735', 'name': 'P...  v-1614027870    False   \n2  [{'id': '4bf58dd8d48988d10f951735', 'name': 'P...  v-1614027870    False   \n3  [{'id': '52f2ab2ebcbc57f1066b8b42', 'name': 'B...  v-1614027870    False   \n\n  location.address  location.lat  location.lng  \\\n0      203 Main St     40.902988    -74.407515   \n1   300 Wootton St     40.908020    -74.404007   \n2   550 Myrtle Ave     40.908581    -74.396925   \n3   300 Wootton St     40.907510    -74.403949   \n\n                             location.labeledLatLngs  location.distance  \\\n0  [{'label': 'display', 'lat': 40.902988, 'lng':...                 47   \n1  [{'label': 'display', 'lat': 40.90802038232041...                604   \n2  [{'label': 'display', 'lat': 40.9085806, 'lng'...               1078   \n3  [{'label': 'display', 'lat': 40.90751021131262...                559   \n\n  location.postalCode location.cc location.city location.state  \\\n0               07005          US       Boonton             NJ   \n1               07005          US       Boonton             NJ   \n2               07005          US       Boonton             NJ   \n3               07005          US       Boonton             NJ   \n\n  location.country            location.formattedAddress venuePage.id  \n0    United States     [203 Main St, Boonton, NJ 07005]     92783166  \n1    United States  [300 Wootton St, Boonton, NJ 07005]          NaN  \n2    United States  [550 Myrtle Ave, Boonton, NJ 07005]          NaN  \n3    United States  [300 Wootton St, Boonton, NJ 07005]          NaN  ",
                        "text/html": "<div>\n<style scoped>\n    .dataframe tbody tr th:only-of-type {\n        vertical-align: middle;\n    }\n\n    .dataframe tbody tr th {\n        vertical-align: top;\n    }\n\n    .dataframe thead th {\n        text-align: right;\n    }\n</style>\n<table border=\"1\" class=\"dataframe\">\n  <thead>\n    <tr style=\"text-align: right;\">\n      <th></th>\n      <th>id</th>\n      <th>name</th>\n      <th>categories</th>\n      <th>referralId</th>\n      <th>hasPerk</th>\n      <th>location.address</th>\n      <th>location.lat</th>\n      <th>location.lng</th>\n      <th>location.labeledLatLngs</th>\n      <th>location.distance</th>\n      <th>location.postalCode</th>\n      <th>location.cc</th>\n      <th>location.city</th>\n      <th>location.state</th>\n      <th>location.country</th>\n      <th>location.formattedAddress</th>\n      <th>venuePage.id</th>\n    </tr>\n  </thead>\n  <tbody>\n    <tr>\n      <th>0</th>\n      <td>53ee6b14498e3f80478ab582</td>\n      <td>Main Pharmacy of Boonton Inc</td>\n      <td>[{'id': '4bf58dd8d48988d10f951735', 'name': 'P...</td>\n      <td>v-1614027870</td>\n      <td>False</td>\n      <td>203 Main St</td>\n      <td>40.902988</td>\n      <td>-74.407515</td>\n      <td>[{'label': 'display', 'lat': 40.902988, 'lng':...</td>\n      <td>47</td>\n      <td>07005</td>\n      <td>US</td>\n      <td>Boonton</td>\n      <td>NJ</td>\n      <td>United States</td>\n      <td>[203 Main St, Boonton, NJ 07005]</td>\n      <td>92783166</td>\n    </tr>\n    <tr>\n      <th>1</th>\n      <td>519ea889498e2aeede6c7064</td>\n      <td>Walmart Pharmacy</td>\n      <td>[{'id': '4bf58dd8d48988d10f951735', 'name': 'P...</td>\n      <td>v-1614027870</td>\n      <td>False</td>\n      <td>300 Wootton St</td>\n      <td>40.908020</td>\n      <td>-74.404007</td>\n      <td>[{'label': 'display', 'lat': 40.90802038232041...</td>\n      <td>604</td>\n      <td>07005</td>\n      <td>US</td>\n      <td>Boonton</td>\n      <td>NJ</td>\n      <td>United States</td>\n      <td>[300 Wootton St, Boonton, NJ 07005]</td>\n      <td>NaN</td>\n    </tr>\n    <tr>\n      <th>2</th>\n      <td>5862df078190793ef71939f9</td>\n      <td>ACME Markets Pharmacy</td>\n      <td>[{'id': '4bf58dd8d48988d10f951735', 'name': 'P...</td>\n      <td>v-1614027870</td>\n      <td>False</td>\n      <td>550 Myrtle Ave</td>\n      <td>40.908581</td>\n      <td>-74.396925</td>\n      <td>[{'label': 'display', 'lat': 40.9085806, 'lng'...</td>\n      <td>1078</td>\n      <td>07005</td>\n      <td>US</td>\n      <td>Boonton</td>\n      <td>NJ</td>\n      <td>United States</td>\n      <td>[550 Myrtle Ave, Boonton, NJ 07005]</td>\n      <td>NaN</td>\n    </tr>\n    <tr>\n      <th>3</th>\n      <td>4b799819f964a5201a042fe3</td>\n      <td>Walmart</td>\n      <td>[{'id': '52f2ab2ebcbc57f1066b8b42', 'name': 'B...</td>\n      <td>v-1614027870</td>\n      <td>False</td>\n      <td>300 Wootton St</td>\n      <td>40.907510</td>\n      <td>-74.403949</td>\n      <td>[{'label': 'display', 'lat': 40.90751021131262...</td>\n      <td>559</td>\n      <td>07005</td>\n      <td>US</td>\n      <td>Boonton</td>\n      <td>NJ</td>\n      <td>United States</td>\n      <td>[300 Wootton St, Boonton, NJ 07005]</td>\n      <td>NaN</td>\n    </tr>\n  </tbody>\n</table>\n</div>"
                    },
                    "metadata": {}
                }
            ]
        },
        {
            "metadata": {},
            "cell_type": "code",
            "source": "## Filter results to only areas of interest\n# keep only columns that include venue name, and anything that is associated with location\nfiltered_columns = ['name', 'categories'] + [col for col in dataframe.columns if col.startswith('location.')] + ['id']\ndataframe_filtered = dataframe.loc[:, filtered_columns]\n\n# function that extracts the category of the venue\ndef get_category_type(row):\n    try:\n        categories_list = row['categories']\n    except:\n        categories_list = row['venue.categories']\n        \n    if len(categories_list) == 0:\n        return None\n    else:\n        return categories_list[0]['name']\n\n# filter the category for each row\ndataframe_filtered['categories'] = dataframe_filtered.apply(get_category_type, axis=1)\n\n# clean column names by keeping only last term\ndataframe_filtered.columns = [column.split('.')[-1] for column in dataframe_filtered.columns]\n\ndataframe_filtered",
            "execution_count": 29,
            "outputs": [
                {
                    "output_type": "execute_result",
                    "execution_count": 29,
                    "data": {
                        "text/plain": "                           name     categories         address        lat  \\\n0  Main Pharmacy of Boonton Inc       Pharmacy     203 Main St  40.902988   \n1              Walmart Pharmacy       Pharmacy  300 Wootton St  40.908020   \n2         ACME Markets Pharmacy       Pharmacy  550 Myrtle Ave  40.908581   \n3                       Walmart  Big Box Store  300 Wootton St  40.907510   \n\n         lng                                     labeledLatLngs  distance  \\\n0 -74.407515  [{'label': 'display', 'lat': 40.902988, 'lng':...        47   \n1 -74.404007  [{'label': 'display', 'lat': 40.90802038232041...       604   \n2 -74.396925  [{'label': 'display', 'lat': 40.9085806, 'lng'...      1078   \n3 -74.403949  [{'label': 'display', 'lat': 40.90751021131262...       559   \n\n  postalCode  cc     city state        country  \\\n0      07005  US  Boonton    NJ  United States   \n1      07005  US  Boonton    NJ  United States   \n2      07005  US  Boonton    NJ  United States   \n3      07005  US  Boonton    NJ  United States   \n\n                      formattedAddress                        id  \n0     [203 Main St, Boonton, NJ 07005]  53ee6b14498e3f80478ab582  \n1  [300 Wootton St, Boonton, NJ 07005]  519ea889498e2aeede6c7064  \n2  [550 Myrtle Ave, Boonton, NJ 07005]  5862df078190793ef71939f9  \n3  [300 Wootton St, Boonton, NJ 07005]  4b799819f964a5201a042fe3  ",
                        "text/html": "<div>\n<style scoped>\n    .dataframe tbody tr th:only-of-type {\n        vertical-align: middle;\n    }\n\n    .dataframe tbody tr th {\n        vertical-align: top;\n    }\n\n    .dataframe thead th {\n        text-align: right;\n    }\n</style>\n<table border=\"1\" class=\"dataframe\">\n  <thead>\n    <tr style=\"text-align: right;\">\n      <th></th>\n      <th>name</th>\n      <th>categories</th>\n      <th>address</th>\n      <th>lat</th>\n      <th>lng</th>\n      <th>labeledLatLngs</th>\n      <th>distance</th>\n      <th>postalCode</th>\n      <th>cc</th>\n      <th>city</th>\n      <th>state</th>\n      <th>country</th>\n      <th>formattedAddress</th>\n      <th>id</th>\n    </tr>\n  </thead>\n  <tbody>\n    <tr>\n      <th>0</th>\n      <td>Main Pharmacy of Boonton Inc</td>\n      <td>Pharmacy</td>\n      <td>203 Main St</td>\n      <td>40.902988</td>\n      <td>-74.407515</td>\n      <td>[{'label': 'display', 'lat': 40.902988, 'lng':...</td>\n      <td>47</td>\n      <td>07005</td>\n      <td>US</td>\n      <td>Boonton</td>\n      <td>NJ</td>\n      <td>United States</td>\n      <td>[203 Main St, Boonton, NJ 07005]</td>\n      <td>53ee6b14498e3f80478ab582</td>\n    </tr>\n    <tr>\n      <th>1</th>\n      <td>Walmart Pharmacy</td>\n      <td>Pharmacy</td>\n      <td>300 Wootton St</td>\n      <td>40.908020</td>\n      <td>-74.404007</td>\n      <td>[{'label': 'display', 'lat': 40.90802038232041...</td>\n      <td>604</td>\n      <td>07005</td>\n      <td>US</td>\n      <td>Boonton</td>\n      <td>NJ</td>\n      <td>United States</td>\n      <td>[300 Wootton St, Boonton, NJ 07005]</td>\n      <td>519ea889498e2aeede6c7064</td>\n    </tr>\n    <tr>\n      <th>2</th>\n      <td>ACME Markets Pharmacy</td>\n      <td>Pharmacy</td>\n      <td>550 Myrtle Ave</td>\n      <td>40.908581</td>\n      <td>-74.396925</td>\n      <td>[{'label': 'display', 'lat': 40.9085806, 'lng'...</td>\n      <td>1078</td>\n      <td>07005</td>\n      <td>US</td>\n      <td>Boonton</td>\n      <td>NJ</td>\n      <td>United States</td>\n      <td>[550 Myrtle Ave, Boonton, NJ 07005]</td>\n      <td>5862df078190793ef71939f9</td>\n    </tr>\n    <tr>\n      <th>3</th>\n      <td>Walmart</td>\n      <td>Big Box Store</td>\n      <td>300 Wootton St</td>\n      <td>40.907510</td>\n      <td>-74.403949</td>\n      <td>[{'label': 'display', 'lat': 40.90751021131262...</td>\n      <td>559</td>\n      <td>07005</td>\n      <td>US</td>\n      <td>Boonton</td>\n      <td>NJ</td>\n      <td>United States</td>\n      <td>[300 Wootton St, Boonton, NJ 07005]</td>\n      <td>4b799819f964a5201a042fe3</td>\n    </tr>\n  </tbody>\n</table>\n</div>"
                    },
                    "metadata": {}
                }
            ]
        },
        {
            "metadata": {},
            "cell_type": "code",
            "source": "## Visualize the data\ndataframe_filtered.name",
            "execution_count": 32,
            "outputs": [
                {
                    "output_type": "execute_result",
                    "execution_count": 32,
                    "data": {
                        "text/plain": "0    Main Pharmacy of Boonton Inc\n1                Walmart Pharmacy\n2           ACME Markets Pharmacy\n3                         Walmart\nName: name, dtype: object"
                    },
                    "metadata": {}
                }
            ]
        },
        {
            "metadata": {},
            "cell_type": "code",
            "source": "label",
            "execution_count": 33,
            "outputs": [
                {
                    "output_type": "error",
                    "ename": "NameError",
                    "evalue": "name 'label' is not defined",
                    "traceback": [
                        "\u001b[0;31m---------------------------------------------------------------------------\u001b[0m",
                        "\u001b[0;31mNameError\u001b[0m                                 Traceback (most recent call last)",
                        "\u001b[0;32m<ipython-input-33-a889fef81a04>\u001b[0m in \u001b[0;36m<module>\u001b[0;34m\u001b[0m\n\u001b[0;32m----> 1\u001b[0;31m \u001b[0mlabel\u001b[0m\u001b[0;34m\u001b[0m\u001b[0;34m\u001b[0m\u001b[0m\n\u001b[0m",
                        "\u001b[0;31mNameError\u001b[0m: name 'label' is not defined"
                    ]
                }
            ]
        },
        {
            "metadata": {
                "scrolled": true
            },
            "cell_type": "code",
            "source": "venues_map = folium.Map(location=[latitude, longitude], tiles=\"Stamen Toner\", zoom_start=13) # generate map centred around the Conrad Hotel\n\n# add a red circle marker to represent the train station\nfolium.Circle(\n    [latitude, longitude],\n    radius=1200,\n    color='red',\n    popup='Train Station',\n    fill = True,\n    fill_color = 'red',\n    fill_opacity = 0.6\n).add_to(venues_map)\n\n# add the pharmacies as blue circle markers\nfor name, lat, lng, label in zip(dataframe_filtered.name, dataframe_filtered.lat, dataframe_filtered.lng, dataframe_filtered.name+\" - \"+dataframe_filtered.city+\", \"+dataframe_filtered.state):\n    folium.CircleMarker(\n        [lat, lng],\n        radius=5,\n        color='blue',\n        popup= label,\n        fill = True,\n        fill_color='blue',\n        fill_opacity=0.6\n    ).add_to(venues_map)\n\n# display map\nvenues_map",
            "execution_count": 34,
            "outputs": [
                {
                    "output_type": "execute_result",
                    "execution_count": 34,
                    "data": {
                        "text/plain": "<folium.folium.Map at 0x7f342f3ea950>",
                        "text/html": "<div style=\"width:100%;\"><div style=\"position:relative;width:100%;height:0;padding-bottom:60%;\"><span style=\"color:#565656\">Make this Notebook Trusted to load map: File -> Trust Notebook</span><iframe src=\"about:blank\" style=\"position:absolute;width:100%;height:100%;left:0;top:0;border:none !important;\" data-html=%3C%21DOCTYPE%20html%3E%0A%3Chead%3E%20%20%20%20%0A%20%20%20%20%3Cmeta%20http-equiv%3D%22content-type%22%20content%3D%22text/html%3B%20charset%3DUTF-8%22%20/%3E%0A%20%20%20%20%3Cscript%3EL_PREFER_CANVAS%20%3D%20false%3B%20L_NO_TOUCH%20%3D%20false%3B%20L_DISABLE_3D%20%3D%20false%3B%3C/script%3E%0A%20%20%20%20%3Cscript%20src%3D%22https%3A//cdn.jsdelivr.net/npm/leaflet%401.2.0/dist/leaflet.js%22%3E%3C/script%3E%0A%20%20%20%20%3Cscript%20src%3D%22https%3A//ajax.googleapis.com/ajax/libs/jquery/1.11.1/jquery.min.js%22%3E%3C/script%3E%0A%20%20%20%20%3Cscript%20src%3D%22https%3A//maxcdn.bootstrapcdn.com/bootstrap/3.2.0/js/bootstrap.min.js%22%3E%3C/script%3E%0A%20%20%20%20%3Cscript%20src%3D%22https%3A//cdnjs.cloudflare.com/ajax/libs/Leaflet.awesome-markers/2.0.2/leaflet.awesome-markers.js%22%3E%3C/script%3E%0A%20%20%20%20%3Clink%20rel%3D%22stylesheet%22%20href%3D%22https%3A//cdn.jsdelivr.net/npm/leaflet%401.2.0/dist/leaflet.css%22/%3E%0A%20%20%20%20%3Clink%20rel%3D%22stylesheet%22%20href%3D%22https%3A//maxcdn.bootstrapcdn.com/bootstrap/3.2.0/css/bootstrap.min.css%22/%3E%0A%20%20%20%20%3Clink%20rel%3D%22stylesheet%22%20href%3D%22https%3A//maxcdn.bootstrapcdn.com/bootstrap/3.2.0/css/bootstrap-theme.min.css%22/%3E%0A%20%20%20%20%3Clink%20rel%3D%22stylesheet%22%20href%3D%22https%3A//maxcdn.bootstrapcdn.com/font-awesome/4.6.3/css/font-awesome.min.css%22/%3E%0A%20%20%20%20%3Clink%20rel%3D%22stylesheet%22%20href%3D%22https%3A//cdnjs.cloudflare.com/ajax/libs/Leaflet.awesome-markers/2.0.2/leaflet.awesome-markers.css%22/%3E%0A%20%20%20%20%3Clink%20rel%3D%22stylesheet%22%20href%3D%22https%3A//rawgit.com/python-visualization/folium/master/folium/templates/leaflet.awesome.rotate.css%22/%3E%0A%20%20%20%20%3Cstyle%3Ehtml%2C%20body%20%7Bwidth%3A%20100%25%3Bheight%3A%20100%25%3Bmargin%3A%200%3Bpadding%3A%200%3B%7D%3C/style%3E%0A%20%20%20%20%3Cstyle%3E%23map%20%7Bposition%3Aabsolute%3Btop%3A0%3Bbottom%3A0%3Bright%3A0%3Bleft%3A0%3B%7D%3C/style%3E%0A%20%20%20%20%0A%20%20%20%20%20%20%20%20%20%20%20%20%3Cstyle%3E%20%23map_fcd76624864d4a718d8f375e10094fda%20%7B%0A%20%20%20%20%20%20%20%20%20%20%20%20%20%20%20%20position%20%3A%20relative%3B%0A%20%20%20%20%20%20%20%20%20%20%20%20%20%20%20%20width%20%3A%20100.0%25%3B%0A%20%20%20%20%20%20%20%20%20%20%20%20%20%20%20%20height%3A%20100.0%25%3B%0A%20%20%20%20%20%20%20%20%20%20%20%20%20%20%20%20left%3A%200.0%25%3B%0A%20%20%20%20%20%20%20%20%20%20%20%20%20%20%20%20top%3A%200.0%25%3B%0A%20%20%20%20%20%20%20%20%20%20%20%20%20%20%20%20%7D%0A%20%20%20%20%20%20%20%20%20%20%20%20%3C/style%3E%0A%20%20%20%20%20%20%20%20%0A%3C/head%3E%0A%3Cbody%3E%20%20%20%20%0A%20%20%20%20%0A%20%20%20%20%20%20%20%20%20%20%20%20%3Cdiv%20class%3D%22folium-map%22%20id%3D%22map_fcd76624864d4a718d8f375e10094fda%22%20%3E%3C/div%3E%0A%20%20%20%20%20%20%20%20%0A%3C/body%3E%0A%3Cscript%3E%20%20%20%20%0A%20%20%20%20%0A%0A%20%20%20%20%20%20%20%20%20%20%20%20%0A%20%20%20%20%20%20%20%20%20%20%20%20%20%20%20%20var%20bounds%20%3D%20null%3B%0A%20%20%20%20%20%20%20%20%20%20%20%20%0A%0A%20%20%20%20%20%20%20%20%20%20%20%20var%20map_fcd76624864d4a718d8f375e10094fda%20%3D%20L.map%28%0A%20%20%20%20%20%20%20%20%20%20%20%20%20%20%20%20%20%20%20%20%20%20%20%20%20%20%20%20%20%20%20%20%20%20%27map_fcd76624864d4a718d8f375e10094fda%27%2C%0A%20%20%20%20%20%20%20%20%20%20%20%20%20%20%20%20%20%20%20%20%20%20%20%20%20%20%20%20%20%20%20%20%20%20%7Bcenter%3A%20%5B40.903378000000004%2C-74.407736%5D%2C%0A%20%20%20%20%20%20%20%20%20%20%20%20%20%20%20%20%20%20%20%20%20%20%20%20%20%20%20%20%20%20%20%20%20%20zoom%3A%2013%2C%0A%20%20%20%20%20%20%20%20%20%20%20%20%20%20%20%20%20%20%20%20%20%20%20%20%20%20%20%20%20%20%20%20%20%20maxBounds%3A%20bounds%2C%0A%20%20%20%20%20%20%20%20%20%20%20%20%20%20%20%20%20%20%20%20%20%20%20%20%20%20%20%20%20%20%20%20%20%20layers%3A%20%5B%5D%2C%0A%20%20%20%20%20%20%20%20%20%20%20%20%20%20%20%20%20%20%20%20%20%20%20%20%20%20%20%20%20%20%20%20%20%20worldCopyJump%3A%20false%2C%0A%20%20%20%20%20%20%20%20%20%20%20%20%20%20%20%20%20%20%20%20%20%20%20%20%20%20%20%20%20%20%20%20%20%20crs%3A%20L.CRS.EPSG3857%0A%20%20%20%20%20%20%20%20%20%20%20%20%20%20%20%20%20%20%20%20%20%20%20%20%20%20%20%20%20%20%20%20%20%7D%29%3B%0A%20%20%20%20%20%20%20%20%20%20%20%20%0A%20%20%20%20%20%20%20%20%0A%20%20%20%20%0A%20%20%20%20%20%20%20%20%20%20%20%20var%20tile_layer_7ffdddafc4db45df8377a475a56a2a7b%20%3D%20L.tileLayer%28%0A%20%20%20%20%20%20%20%20%20%20%20%20%20%20%20%20%27https%3A//stamen-tiles-%7Bs%7D.a.ssl.fastly.net/toner/%7Bz%7D/%7Bx%7D/%7By%7D.png%27%2C%0A%20%20%20%20%20%20%20%20%20%20%20%20%20%20%20%20%7B%0A%20%20%22attribution%22%3A%20null%2C%0A%20%20%22detectRetina%22%3A%20false%2C%0A%20%20%22maxZoom%22%3A%2018%2C%0A%20%20%22minZoom%22%3A%201%2C%0A%20%20%22noWrap%22%3A%20false%2C%0A%20%20%22subdomains%22%3A%20%22abc%22%0A%7D%0A%20%20%20%20%20%20%20%20%20%20%20%20%20%20%20%20%29.addTo%28map_fcd76624864d4a718d8f375e10094fda%29%3B%0A%20%20%20%20%20%20%20%20%0A%20%20%20%20%0A%0A%20%20%20%20%20%20%20%20%20%20%20%20var%20circle_95eabbf51b224ff29588935d321fecbf%20%3D%20L.circle%28%0A%20%20%20%20%20%20%20%20%20%20%20%20%20%20%20%20%5B40.903378000000004%2C-74.407736%5D%2C%0A%20%20%20%20%20%20%20%20%20%20%20%20%20%20%20%20%7B%0A%20%20%22bubblingMouseEvents%22%3A%20true%2C%0A%20%20%22color%22%3A%20%22red%22%2C%0A%20%20%22dashArray%22%3A%20null%2C%0A%20%20%22dashOffset%22%3A%20null%2C%0A%20%20%22fill%22%3A%20true%2C%0A%20%20%22fillColor%22%3A%20%22red%22%2C%0A%20%20%22fillOpacity%22%3A%200.6%2C%0A%20%20%22fillRule%22%3A%20%22evenodd%22%2C%0A%20%20%22lineCap%22%3A%20%22round%22%2C%0A%20%20%22lineJoin%22%3A%20%22round%22%2C%0A%20%20%22opacity%22%3A%201.0%2C%0A%20%20%22radius%22%3A%201200%2C%0A%20%20%22stroke%22%3A%20true%2C%0A%20%20%22weight%22%3A%203%0A%7D%0A%20%20%20%20%20%20%20%20%20%20%20%20%20%20%20%20%29.addTo%28map_fcd76624864d4a718d8f375e10094fda%29%3B%0A%20%20%20%20%20%20%20%20%20%20%20%20%0A%20%20%20%20%0A%20%20%20%20%20%20%20%20%20%20%20%20var%20popup_433724a3e1c34852bdeacefc64b8dfab%20%3D%20L.popup%28%7BmaxWidth%3A%20%27300%27%7D%29%3B%0A%0A%20%20%20%20%20%20%20%20%20%20%20%20%0A%20%20%20%20%20%20%20%20%20%20%20%20%20%20%20%20var%20html_e2c848dcce01487386c202e01b96e795%20%3D%20%24%28%27%3Cdiv%20id%3D%22html_e2c848dcce01487386c202e01b96e795%22%20style%3D%22width%3A%20100.0%25%3B%20height%3A%20100.0%25%3B%22%3ETrain%20Station%3C/div%3E%27%29%5B0%5D%3B%0A%20%20%20%20%20%20%20%20%20%20%20%20%20%20%20%20popup_433724a3e1c34852bdeacefc64b8dfab.setContent%28html_e2c848dcce01487386c202e01b96e795%29%3B%0A%20%20%20%20%20%20%20%20%20%20%20%20%0A%0A%20%20%20%20%20%20%20%20%20%20%20%20circle_95eabbf51b224ff29588935d321fecbf.bindPopup%28popup_433724a3e1c34852bdeacefc64b8dfab%29%3B%0A%0A%20%20%20%20%20%20%20%20%20%20%20%20%0A%20%20%20%20%20%20%20%20%0A%20%20%20%20%0A%20%20%20%20%20%20%20%20%20%20%20%20var%20circle_marker_b8d254cf772c4125afb9de15a80e725b%20%3D%20L.circleMarker%28%0A%20%20%20%20%20%20%20%20%20%20%20%20%20%20%20%20%5B40.902988%2C-74.407515%5D%2C%0A%20%20%20%20%20%20%20%20%20%20%20%20%20%20%20%20%7B%0A%20%20%22bubblingMouseEvents%22%3A%20true%2C%0A%20%20%22color%22%3A%20%22blue%22%2C%0A%20%20%22dashArray%22%3A%20null%2C%0A%20%20%22dashOffset%22%3A%20null%2C%0A%20%20%22fill%22%3A%20true%2C%0A%20%20%22fillColor%22%3A%20%22blue%22%2C%0A%20%20%22fillOpacity%22%3A%200.6%2C%0A%20%20%22fillRule%22%3A%20%22evenodd%22%2C%0A%20%20%22lineCap%22%3A%20%22round%22%2C%0A%20%20%22lineJoin%22%3A%20%22round%22%2C%0A%20%20%22opacity%22%3A%201.0%2C%0A%20%20%22radius%22%3A%205%2C%0A%20%20%22stroke%22%3A%20true%2C%0A%20%20%22weight%22%3A%203%0A%7D%0A%20%20%20%20%20%20%20%20%20%20%20%20%20%20%20%20%29.addTo%28map_fcd76624864d4a718d8f375e10094fda%29%3B%0A%20%20%20%20%20%20%20%20%20%20%20%20%0A%20%20%20%20%0A%20%20%20%20%20%20%20%20%20%20%20%20var%20popup_bd3226d83f6b40a4a859468a233107c4%20%3D%20L.popup%28%7BmaxWidth%3A%20%27300%27%7D%29%3B%0A%0A%20%20%20%20%20%20%20%20%20%20%20%20%0A%20%20%20%20%20%20%20%20%20%20%20%20%20%20%20%20var%20html_8d6221370c11403a8a4d4f26755cf1b2%20%3D%20%24%28%27%3Cdiv%20id%3D%22html_8d6221370c11403a8a4d4f26755cf1b2%22%20style%3D%22width%3A%20100.0%25%3B%20height%3A%20100.0%25%3B%22%3EMain%20Pharmacy%20of%20Boonton%20Inc%20-%20Boonton%2C%20NJ%3C/div%3E%27%29%5B0%5D%3B%0A%20%20%20%20%20%20%20%20%20%20%20%20%20%20%20%20popup_bd3226d83f6b40a4a859468a233107c4.setContent%28html_8d6221370c11403a8a4d4f26755cf1b2%29%3B%0A%20%20%20%20%20%20%20%20%20%20%20%20%0A%0A%20%20%20%20%20%20%20%20%20%20%20%20circle_marker_b8d254cf772c4125afb9de15a80e725b.bindPopup%28popup_bd3226d83f6b40a4a859468a233107c4%29%3B%0A%0A%20%20%20%20%20%20%20%20%20%20%20%20%0A%20%20%20%20%20%20%20%20%0A%20%20%20%20%0A%20%20%20%20%20%20%20%20%20%20%20%20var%20circle_marker_25635c7c7a9748e89b574a6c6dc322e2%20%3D%20L.circleMarker%28%0A%20%20%20%20%20%20%20%20%20%20%20%20%20%20%20%20%5B40.90802038232041%2C-74.40400693368525%5D%2C%0A%20%20%20%20%20%20%20%20%20%20%20%20%20%20%20%20%7B%0A%20%20%22bubblingMouseEvents%22%3A%20true%2C%0A%20%20%22color%22%3A%20%22blue%22%2C%0A%20%20%22dashArray%22%3A%20null%2C%0A%20%20%22dashOffset%22%3A%20null%2C%0A%20%20%22fill%22%3A%20true%2C%0A%20%20%22fillColor%22%3A%20%22blue%22%2C%0A%20%20%22fillOpacity%22%3A%200.6%2C%0A%20%20%22fillRule%22%3A%20%22evenodd%22%2C%0A%20%20%22lineCap%22%3A%20%22round%22%2C%0A%20%20%22lineJoin%22%3A%20%22round%22%2C%0A%20%20%22opacity%22%3A%201.0%2C%0A%20%20%22radius%22%3A%205%2C%0A%20%20%22stroke%22%3A%20true%2C%0A%20%20%22weight%22%3A%203%0A%7D%0A%20%20%20%20%20%20%20%20%20%20%20%20%20%20%20%20%29.addTo%28map_fcd76624864d4a718d8f375e10094fda%29%3B%0A%20%20%20%20%20%20%20%20%20%20%20%20%0A%20%20%20%20%0A%20%20%20%20%20%20%20%20%20%20%20%20var%20popup_687639050961477f911ef8f3fd0e0979%20%3D%20L.popup%28%7BmaxWidth%3A%20%27300%27%7D%29%3B%0A%0A%20%20%20%20%20%20%20%20%20%20%20%20%0A%20%20%20%20%20%20%20%20%20%20%20%20%20%20%20%20var%20html_3a77c18e97554e7bac247af0977f64a9%20%3D%20%24%28%27%3Cdiv%20id%3D%22html_3a77c18e97554e7bac247af0977f64a9%22%20style%3D%22width%3A%20100.0%25%3B%20height%3A%20100.0%25%3B%22%3EWalmart%20Pharmacy%20-%20Boonton%2C%20NJ%3C/div%3E%27%29%5B0%5D%3B%0A%20%20%20%20%20%20%20%20%20%20%20%20%20%20%20%20popup_687639050961477f911ef8f3fd0e0979.setContent%28html_3a77c18e97554e7bac247af0977f64a9%29%3B%0A%20%20%20%20%20%20%20%20%20%20%20%20%0A%0A%20%20%20%20%20%20%20%20%20%20%20%20circle_marker_25635c7c7a9748e89b574a6c6dc322e2.bindPopup%28popup_687639050961477f911ef8f3fd0e0979%29%3B%0A%0A%20%20%20%20%20%20%20%20%20%20%20%20%0A%20%20%20%20%20%20%20%20%0A%20%20%20%20%0A%20%20%20%20%20%20%20%20%20%20%20%20var%20circle_marker_4d5a7fd496d841bfa71f82197edf58a2%20%3D%20L.circleMarker%28%0A%20%20%20%20%20%20%20%20%20%20%20%20%20%20%20%20%5B40.9085806%2C-74.3969249%5D%2C%0A%20%20%20%20%20%20%20%20%20%20%20%20%20%20%20%20%7B%0A%20%20%22bubblingMouseEvents%22%3A%20true%2C%0A%20%20%22color%22%3A%20%22blue%22%2C%0A%20%20%22dashArray%22%3A%20null%2C%0A%20%20%22dashOffset%22%3A%20null%2C%0A%20%20%22fill%22%3A%20true%2C%0A%20%20%22fillColor%22%3A%20%22blue%22%2C%0A%20%20%22fillOpacity%22%3A%200.6%2C%0A%20%20%22fillRule%22%3A%20%22evenodd%22%2C%0A%20%20%22lineCap%22%3A%20%22round%22%2C%0A%20%20%22lineJoin%22%3A%20%22round%22%2C%0A%20%20%22opacity%22%3A%201.0%2C%0A%20%20%22radius%22%3A%205%2C%0A%20%20%22stroke%22%3A%20true%2C%0A%20%20%22weight%22%3A%203%0A%7D%0A%20%20%20%20%20%20%20%20%20%20%20%20%20%20%20%20%29.addTo%28map_fcd76624864d4a718d8f375e10094fda%29%3B%0A%20%20%20%20%20%20%20%20%20%20%20%20%0A%20%20%20%20%0A%20%20%20%20%20%20%20%20%20%20%20%20var%20popup_d2b00200605943f09b9378d3531ab57f%20%3D%20L.popup%28%7BmaxWidth%3A%20%27300%27%7D%29%3B%0A%0A%20%20%20%20%20%20%20%20%20%20%20%20%0A%20%20%20%20%20%20%20%20%20%20%20%20%20%20%20%20var%20html_61b79f2ec47d4e68bb6f9206f9d60189%20%3D%20%24%28%27%3Cdiv%20id%3D%22html_61b79f2ec47d4e68bb6f9206f9d60189%22%20style%3D%22width%3A%20100.0%25%3B%20height%3A%20100.0%25%3B%22%3EACME%20Markets%20Pharmacy%20-%20Boonton%2C%20NJ%3C/div%3E%27%29%5B0%5D%3B%0A%20%20%20%20%20%20%20%20%20%20%20%20%20%20%20%20popup_d2b00200605943f09b9378d3531ab57f.setContent%28html_61b79f2ec47d4e68bb6f9206f9d60189%29%3B%0A%20%20%20%20%20%20%20%20%20%20%20%20%0A%0A%20%20%20%20%20%20%20%20%20%20%20%20circle_marker_4d5a7fd496d841bfa71f82197edf58a2.bindPopup%28popup_d2b00200605943f09b9378d3531ab57f%29%3B%0A%0A%20%20%20%20%20%20%20%20%20%20%20%20%0A%20%20%20%20%20%20%20%20%0A%20%20%20%20%0A%20%20%20%20%20%20%20%20%20%20%20%20var%20circle_marker_84b5a089ed244b46ba663c6f640b6e8e%20%3D%20L.circleMarker%28%0A%20%20%20%20%20%20%20%20%20%20%20%20%20%20%20%20%5B40.907510211312626%2C-74.40394923649639%5D%2C%0A%20%20%20%20%20%20%20%20%20%20%20%20%20%20%20%20%7B%0A%20%20%22bubblingMouseEvents%22%3A%20true%2C%0A%20%20%22color%22%3A%20%22blue%22%2C%0A%20%20%22dashArray%22%3A%20null%2C%0A%20%20%22dashOffset%22%3A%20null%2C%0A%20%20%22fill%22%3A%20true%2C%0A%20%20%22fillColor%22%3A%20%22blue%22%2C%0A%20%20%22fillOpacity%22%3A%200.6%2C%0A%20%20%22fillRule%22%3A%20%22evenodd%22%2C%0A%20%20%22lineCap%22%3A%20%22round%22%2C%0A%20%20%22lineJoin%22%3A%20%22round%22%2C%0A%20%20%22opacity%22%3A%201.0%2C%0A%20%20%22radius%22%3A%205%2C%0A%20%20%22stroke%22%3A%20true%2C%0A%20%20%22weight%22%3A%203%0A%7D%0A%20%20%20%20%20%20%20%20%20%20%20%20%20%20%20%20%29.addTo%28map_fcd76624864d4a718d8f375e10094fda%29%3B%0A%20%20%20%20%20%20%20%20%20%20%20%20%0A%20%20%20%20%0A%20%20%20%20%20%20%20%20%20%20%20%20var%20popup_1f5affecd54b47debc072f7a257940c0%20%3D%20L.popup%28%7BmaxWidth%3A%20%27300%27%7D%29%3B%0A%0A%20%20%20%20%20%20%20%20%20%20%20%20%0A%20%20%20%20%20%20%20%20%20%20%20%20%20%20%20%20var%20html_78763a3c9ded4d44847a9dea19ad6d39%20%3D%20%24%28%27%3Cdiv%20id%3D%22html_78763a3c9ded4d44847a9dea19ad6d39%22%20style%3D%22width%3A%20100.0%25%3B%20height%3A%20100.0%25%3B%22%3EWalmart%20-%20Boonton%2C%20NJ%3C/div%3E%27%29%5B0%5D%3B%0A%20%20%20%20%20%20%20%20%20%20%20%20%20%20%20%20popup_1f5affecd54b47debc072f7a257940c0.setContent%28html_78763a3c9ded4d44847a9dea19ad6d39%29%3B%0A%20%20%20%20%20%20%20%20%20%20%20%20%0A%0A%20%20%20%20%20%20%20%20%20%20%20%20circle_marker_84b5a089ed244b46ba663c6f640b6e8e.bindPopup%28popup_1f5affecd54b47debc072f7a257940c0%29%3B%0A%0A%20%20%20%20%20%20%20%20%20%20%20%20%0A%20%20%20%20%20%20%20%20%0A%3C/script%3E onload=\"this.contentDocument.open();this.contentDocument.write(    decodeURIComponent(this.getAttribute('data-html')));this.contentDocument.close();\" allowfullscreen webkitallowfullscreen mozallowfullscreen></iframe></div></div>"
                    },
                    "metadata": {}
                }
            ]
        },
        {
            "metadata": {},
            "cell_type": "code",
            "source": "",
            "execution_count": null,
            "outputs": []
        }
    ],
    "metadata": {
        "kernelspec": {
            "name": "python3",
            "display_name": "Python 3.7",
            "language": "python"
        },
        "language_info": {
            "name": "python",
            "version": "3.7.9",
            "mimetype": "text/x-python",
            "codemirror_mode": {
                "name": "ipython",
                "version": 3
            },
            "pygments_lexer": "ipython3",
            "nbconvert_exporter": "python",
            "file_extension": ".py"
        }
    },
    "nbformat": 4,
    "nbformat_minor": 1
}