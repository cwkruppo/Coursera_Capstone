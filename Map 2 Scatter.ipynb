{
    "cells": [
        {
            "metadata": {},
            "cell_type": "code",
            "source": "##! pip install mwclient",
            "execution_count": 39,
            "outputs": []
        },
        {
            "metadata": {},
            "cell_type": "code",
            "source": "#!/usr/bin/python3\n\n\"\"\"\n    get_category_info.py\n\n    MediaWiki API Demos\n    Demo of `Categoryinfo` module: Get information about few categories\n    MIT license\n\"\"\"\n\nimport requests\n\nS = requests.Session()\n\nURL = \"https://en.wikipedia.org/w/api.php\"\n\nPARAMS = {\n    \"action\": \"query\",\n    \"format\": \"json\",\n    \"titles\": \"Category:Railway_stations_in_Morris_County,_New_Jersey\",\n    \"prop\": \"categoryinfo\"\n}\n\nR = S.get(url=URL, params=PARAMS)\nDATA = R.json()\n\nPAGES = DATA[\"query\"][\"pages\"]\n\nfor k, v in PAGES.items():\n    print(v[\"title\"] + \" has \" + str(v[\"categoryinfo\"][\"pages\"]) + \" pages.\")",
            "execution_count": 11,
            "outputs": [
                {
                    "output_type": "stream",
                    "text": "Category:Railway stations in Morris County, New Jersey has 14 pages.\n",
                    "name": "stdout"
                }
            ]
        },
        {
            "metadata": {},
            "cell_type": "code",
            "source": "print(\"Morris County has \" + str(v[\"categoryinfo\"][\"pages\"]) + \" railway station stops.\")",
            "execution_count": 6,
            "outputs": [
                {
                    "output_type": "stream",
                    "text": "Morris County has 14 railway station stops.\n",
                    "name": "stdout"
                }
            ]
        },
        {
            "metadata": {},
            "cell_type": "code",
            "source": "print(\"The train station stops in Morris County are:\")",
            "execution_count": 7,
            "outputs": [
                {
                    "output_type": "stream",
                    "text": "The train station stops in Morris County are:\n",
                    "name": "stdout"
                }
            ]
        },
        {
            "metadata": {},
            "cell_type": "code",
            "source": "#!/usr/bin/python3\n\n\"\"\"\n    get_category_info.py\n\n    MediaWiki API Demos\n    Demo of `Categoryinfo` module: Get information about few categories\n    MIT license\n\"\"\"\n\nimport requests\n\nS = requests.Session()\n\nURL = \"https://en.wikipedia.org/w/api.php\"\n\nPARAMS = {\n    \"action\": \"query\",\n    \"format\": \"json\",\n    \"generator\": \"categorymembers\",\n    \"cmtitle\": \"Category:Railway_stations_in_Morris_County,_New_Jersey\",\n    \n}\n\nR = S.get(url=URL, params=PARAMS)\nDATA = R.json()\n\nPAGES = DATA[\"query\"][\"pages\"]\n\nfor k, v in PAGES.items():\n    print(v[\"title\"] + \" has \" + str(v[\"categoryinfo\"][\"pages\"]) + \" pages.\")",
            "execution_count": 115,
            "outputs": [
                {
                    "output_type": "error",
                    "ename": "KeyError",
                    "evalue": "'query'",
                    "traceback": [
                        "\u001b[0;31m---------------------------------------------------------------------------\u001b[0m",
                        "\u001b[0;31mKeyError\u001b[0m                                  Traceback (most recent call last)",
                        "\u001b[0;32m<ipython-input-115-fe6fb20f47a1>\u001b[0m in \u001b[0;36m<module>\u001b[0;34m\u001b[0m\n\u001b[1;32m     26\u001b[0m \u001b[0mDATA\u001b[0m \u001b[0;34m=\u001b[0m \u001b[0mR\u001b[0m\u001b[0;34m.\u001b[0m\u001b[0mjson\u001b[0m\u001b[0;34m(\u001b[0m\u001b[0;34m)\u001b[0m\u001b[0;34m\u001b[0m\u001b[0;34m\u001b[0m\u001b[0m\n\u001b[1;32m     27\u001b[0m \u001b[0;34m\u001b[0m\u001b[0m\n\u001b[0;32m---> 28\u001b[0;31m \u001b[0mPAGES\u001b[0m \u001b[0;34m=\u001b[0m \u001b[0mDATA\u001b[0m\u001b[0;34m[\u001b[0m\u001b[0;34m\"query\"\u001b[0m\u001b[0;34m]\u001b[0m\u001b[0;34m[\u001b[0m\u001b[0;34m\"pages\"\u001b[0m\u001b[0;34m]\u001b[0m\u001b[0;34m\u001b[0m\u001b[0;34m\u001b[0m\u001b[0m\n\u001b[0m\u001b[1;32m     29\u001b[0m \u001b[0;34m\u001b[0m\u001b[0m\n\u001b[1;32m     30\u001b[0m \u001b[0;32mfor\u001b[0m \u001b[0mk\u001b[0m\u001b[0;34m,\u001b[0m \u001b[0mv\u001b[0m \u001b[0;32min\u001b[0m \u001b[0mPAGES\u001b[0m\u001b[0;34m.\u001b[0m\u001b[0mitems\u001b[0m\u001b[0;34m(\u001b[0m\u001b[0;34m)\u001b[0m\u001b[0;34m:\u001b[0m\u001b[0;34m\u001b[0m\u001b[0;34m\u001b[0m\u001b[0m\n",
                        "\u001b[0;31mKeyError\u001b[0m: 'query'"
                    ]
                }
            ]
        },
        {
            "metadata": {},
            "cell_type": "code",
            "source": "## Import train station stop name list from Wikipedia API\n#!/usr/bin/python3\n\n\"\"\"\n    get_subcategories.py\n\n    MediaWiki API Demos\n    Demo of `Categorymembers` module : Get ten subcategories of a category\n\n    MIT License\n\"\"\"\n\nimport requests\n\nS = requests.Session()\n\nURL = \"https://en.wikipedia.org/w/api.php\"\n\nPARAMS = {\n    \"action\": \"query\",\n    \"cmtitle\": \"Category:Railway_stations_in_Morris_County,_New_Jersey\",\n    \"cmtype\": \"page\",\n    \"list\": \"categorymembers\",\n    \"cmlimit\": \"max\",\n    \"format\": \"json\"\n}\n\nR = S.get(url=URL, params=PARAMS)\nDATA = R.json()\n\nPAGES = DATA[\"query\"][\"categorymembers\"]\n\nfor page in PAGES:\n    print(page[\"title\"])",
            "execution_count": 14,
            "outputs": [
                {
                    "output_type": "stream",
                    "text": "Boonton station\nButler station (New Jersey)\nConvent Station (NJ Transit)\nDover station (NJ Transit)\nLake Hopatcong station\nMadison station (NJ Transit)\nMillington station\nMorris Plains station\nMorristown station\nMount Arlington station\nMount Tabor station\nNewfoundland station (New York, Susquehanna and Western Railroad)\nPompton Plains station\nTowaco station\n",
                    "name": "stdout"
                }
            ]
        },
        {
            "metadata": {},
            "cell_type": "code",
            "source": "PAGES",
            "execution_count": 118,
            "outputs": [
                {
                    "output_type": "execute_result",
                    "execution_count": 118,
                    "data": {
                        "text/plain": "[{'pageid': 5829570, 'ns': 0, 'title': 'Boonton station'},\n {'pageid': 26677860, 'ns': 0, 'title': 'Butler station (New Jersey)'},\n {'pageid': 3718192, 'ns': 0, 'title': 'Convent Station (NJ Transit)'},\n {'pageid': 5816657, 'ns': 0, 'title': 'Dover station (NJ Transit)'},\n {'pageid': 5817222, 'ns': 0, 'title': 'Lake Hopatcong station'},\n {'pageid': 5816296, 'ns': 0, 'title': 'Madison station (NJ Transit)'},\n {'pageid': 5817422, 'ns': 0, 'title': 'Millington station'},\n {'pageid': 5816408, 'ns': 0, 'title': 'Morris Plains station'},\n {'pageid': 3725064, 'ns': 0, 'title': 'Morristown station'},\n {'pageid': 5816716, 'ns': 0, 'title': 'Mount Arlington station'},\n {'pageid': 5816442, 'ns': 0, 'title': 'Mount Tabor station'},\n {'pageid': 51614160,\n  'ns': 0,\n  'title': 'Newfoundland station (New York, Susquehanna and Western Railroad)'},\n {'pageid': 26677894, 'ns': 0, 'title': 'Pompton Plains station'},\n {'pageid': 5829539, 'ns': 0, 'title': 'Towaco station'}]"
                    },
                    "metadata": {}
                }
            ]
        },
        {
            "metadata": {},
            "cell_type": "code",
            "source": "wikilist = PAGES\nwikilist",
            "execution_count": 119,
            "outputs": [
                {
                    "output_type": "execute_result",
                    "execution_count": 119,
                    "data": {
                        "text/plain": "[{'pageid': 5829570, 'ns': 0, 'title': 'Boonton station'},\n {'pageid': 26677860, 'ns': 0, 'title': 'Butler station (New Jersey)'},\n {'pageid': 3718192, 'ns': 0, 'title': 'Convent Station (NJ Transit)'},\n {'pageid': 5816657, 'ns': 0, 'title': 'Dover station (NJ Transit)'},\n {'pageid': 5817222, 'ns': 0, 'title': 'Lake Hopatcong station'},\n {'pageid': 5816296, 'ns': 0, 'title': 'Madison station (NJ Transit)'},\n {'pageid': 5817422, 'ns': 0, 'title': 'Millington station'},\n {'pageid': 5816408, 'ns': 0, 'title': 'Morris Plains station'},\n {'pageid': 3725064, 'ns': 0, 'title': 'Morristown station'},\n {'pageid': 5816716, 'ns': 0, 'title': 'Mount Arlington station'},\n {'pageid': 5816442, 'ns': 0, 'title': 'Mount Tabor station'},\n {'pageid': 51614160,\n  'ns': 0,\n  'title': 'Newfoundland station (New York, Susquehanna and Western Railroad)'},\n {'pageid': 26677894, 'ns': 0, 'title': 'Pompton Plains station'},\n {'pageid': 5829539, 'ns': 0, 'title': 'Towaco station'}]"
                    },
                    "metadata": {}
                }
            ]
        },
        {
            "metadata": {},
            "cell_type": "code",
            "source": "from pandas import DataFrame\n\ndfwiki = wikilist\n\ndfwiki = DataFrame (dfwiki,columns=['pageid','ns','title'])\ndfwiki.drop(['pageid', 'ns'], axis=1, inplace=True)\ndfwiki.rename(columns={'title': 'stop_name'}, inplace=True)\ndfwiki",
            "execution_count": 137,
            "outputs": [
                {
                    "output_type": "execute_result",
                    "execution_count": 137,
                    "data": {
                        "text/plain": "                                            stop_name\n0                                     Boonton station\n1                         Butler station (New Jersey)\n2                        Convent Station (NJ Transit)\n3                          Dover station (NJ Transit)\n4                              Lake Hopatcong station\n5                        Madison station (NJ Transit)\n6                                  Millington station\n7                               Morris Plains station\n8                                  Morristown station\n9                             Mount Arlington station\n10                                Mount Tabor station\n11  Newfoundland station (New York, Susquehanna an...\n12                             Pompton Plains station\n13                                     Towaco station",
                        "text/html": "<div>\n<style scoped>\n    .dataframe tbody tr th:only-of-type {\n        vertical-align: middle;\n    }\n\n    .dataframe tbody tr th {\n        vertical-align: top;\n    }\n\n    .dataframe thead th {\n        text-align: right;\n    }\n</style>\n<table border=\"1\" class=\"dataframe\">\n  <thead>\n    <tr style=\"text-align: right;\">\n      <th></th>\n      <th>stop_name</th>\n    </tr>\n  </thead>\n  <tbody>\n    <tr>\n      <th>0</th>\n      <td>Boonton station</td>\n    </tr>\n    <tr>\n      <th>1</th>\n      <td>Butler station (New Jersey)</td>\n    </tr>\n    <tr>\n      <th>2</th>\n      <td>Convent Station (NJ Transit)</td>\n    </tr>\n    <tr>\n      <th>3</th>\n      <td>Dover station (NJ Transit)</td>\n    </tr>\n    <tr>\n      <th>4</th>\n      <td>Lake Hopatcong station</td>\n    </tr>\n    <tr>\n      <th>5</th>\n      <td>Madison station (NJ Transit)</td>\n    </tr>\n    <tr>\n      <th>6</th>\n      <td>Millington station</td>\n    </tr>\n    <tr>\n      <th>7</th>\n      <td>Morris Plains station</td>\n    </tr>\n    <tr>\n      <th>8</th>\n      <td>Morristown station</td>\n    </tr>\n    <tr>\n      <th>9</th>\n      <td>Mount Arlington station</td>\n    </tr>\n    <tr>\n      <th>10</th>\n      <td>Mount Tabor station</td>\n    </tr>\n    <tr>\n      <th>11</th>\n      <td>Newfoundland station (New York, Susquehanna an...</td>\n    </tr>\n    <tr>\n      <th>12</th>\n      <td>Pompton Plains station</td>\n    </tr>\n    <tr>\n      <th>13</th>\n      <td>Towaco station</td>\n    </tr>\n  </tbody>\n</table>\n</div>"
                    },
                    "metadata": {}
                }
            ]
        },
        {
            "metadata": {},
            "cell_type": "code",
            "source": "## Remove non-NJ Transit stations and clean up name",
            "execution_count": 133,
            "outputs": []
        },
        {
            "metadata": {},
            "cell_type": "code",
            "source": "dfwiki = dfwiki[~dfwiki['stop_name'].str.contains('Railroad')]\ndfwiki['stop_name'] = dfwiki['stop_name'].str.upper()\ndfwiki",
            "execution_count": 138,
            "outputs": [
                {
                    "output_type": "stream",
                    "text": "/opt/conda/envs/Python-3.7-main/lib/python3.7/site-packages/ipykernel/__main__.py:2: SettingWithCopyWarning: \nA value is trying to be set on a copy of a slice from a DataFrame.\nTry using .loc[row_indexer,col_indexer] = value instead\n\nSee the caveats in the documentation: https://pandas.pydata.org/pandas-docs/stable/user_guide/indexing.html#returning-a-view-versus-a-copy\n  from ipykernel import kernelapp as app\n",
                    "name": "stderr"
                },
                {
                    "output_type": "execute_result",
                    "execution_count": 138,
                    "data": {
                        "text/plain": "                       stop_name\n0                BOONTON STATION\n1    BUTLER STATION (NEW JERSEY)\n2   CONVENT STATION (NJ TRANSIT)\n3     DOVER STATION (NJ TRANSIT)\n4         LAKE HOPATCONG STATION\n5   MADISON STATION (NJ TRANSIT)\n6             MILLINGTON STATION\n7          MORRIS PLAINS STATION\n8             MORRISTOWN STATION\n9        MOUNT ARLINGTON STATION\n10           MOUNT TABOR STATION\n12        POMPTON PLAINS STATION\n13                TOWACO STATION",
                        "text/html": "<div>\n<style scoped>\n    .dataframe tbody tr th:only-of-type {\n        vertical-align: middle;\n    }\n\n    .dataframe tbody tr th {\n        vertical-align: top;\n    }\n\n    .dataframe thead th {\n        text-align: right;\n    }\n</style>\n<table border=\"1\" class=\"dataframe\">\n  <thead>\n    <tr style=\"text-align: right;\">\n      <th></th>\n      <th>stop_name</th>\n    </tr>\n  </thead>\n  <tbody>\n    <tr>\n      <th>0</th>\n      <td>BOONTON STATION</td>\n    </tr>\n    <tr>\n      <th>1</th>\n      <td>BUTLER STATION (NEW JERSEY)</td>\n    </tr>\n    <tr>\n      <th>2</th>\n      <td>CONVENT STATION (NJ TRANSIT)</td>\n    </tr>\n    <tr>\n      <th>3</th>\n      <td>DOVER STATION (NJ TRANSIT)</td>\n    </tr>\n    <tr>\n      <th>4</th>\n      <td>LAKE HOPATCONG STATION</td>\n    </tr>\n    <tr>\n      <th>5</th>\n      <td>MADISON STATION (NJ TRANSIT)</td>\n    </tr>\n    <tr>\n      <th>6</th>\n      <td>MILLINGTON STATION</td>\n    </tr>\n    <tr>\n      <th>7</th>\n      <td>MORRIS PLAINS STATION</td>\n    </tr>\n    <tr>\n      <th>8</th>\n      <td>MORRISTOWN STATION</td>\n    </tr>\n    <tr>\n      <th>9</th>\n      <td>MOUNT ARLINGTON STATION</td>\n    </tr>\n    <tr>\n      <th>10</th>\n      <td>MOUNT TABOR STATION</td>\n    </tr>\n    <tr>\n      <th>12</th>\n      <td>POMPTON PLAINS STATION</td>\n    </tr>\n    <tr>\n      <th>13</th>\n      <td>TOWACO STATION</td>\n    </tr>\n  </tbody>\n</table>\n</div>"
                    },
                    "metadata": {}
                }
            ]
        },
        {
            "metadata": {},
            "cell_type": "code",
            "source": "## split and remove partial string from \" station....\"",
            "execution_count": 1,
            "outputs": []
        },
        {
            "metadata": {},
            "cell_type": "code",
            "source": "dfwiki = dfwiki.stop_name.str.replace(' STATION.*', '')\ndfwiki",
            "execution_count": 139,
            "outputs": [
                {
                    "output_type": "execute_result",
                    "execution_count": 139,
                    "data": {
                        "text/plain": "0             BOONTON\n1              BUTLER\n2             CONVENT\n3               DOVER\n4      LAKE HOPATCONG\n5             MADISON\n6          MILLINGTON\n7       MORRIS PLAINS\n8          MORRISTOWN\n9     MOUNT ARLINGTON\n10        MOUNT TABOR\n12     POMPTON PLAINS\n13             TOWACO\nName: stop_name, dtype: object"
                    },
                    "metadata": {}
                }
            ]
        },
        {
            "metadata": {},
            "cell_type": "code",
            "source": "## import station data from NJ Transit\nimport pandas as pd\ndfstops = pd.read_table(\"https://raw.githubusercontent.com/cwkruppo/Coursera_Capstone/master/stops.txt\", sep=',', header=0)\ndfstops.drop(['stop_id', 'stop_desc', 'zone_id'], axis=1, inplace=True)\ndfstops = dfstops[~dfstops['stop_name'].str.contains('LIGHT RAIL')]\ndfstops",
            "execution_count": 141,
            "outputs": [
                {
                    "output_type": "execute_result",
                    "execution_count": 141,
                    "data": {
                        "text/plain": "     stop_code                           stop_name   stop_lat   stop_lon\n0        95001                       30TH ST. PHL.  39.956565 -75.182327\n1        95002                             ABSECON  39.424333 -74.502094\n2        95003                           ALLENDALE  41.030902 -74.130957\n3        95004                          ALLENHURST  40.237659 -74.006769\n4        95005                     ANDERSON STREET  40.894458 -74.043781\n..         ...                                 ...        ...        ...\n213      30824                      BERGENLINE AVE  40.782225 -74.022271\n221      95171                     MOUNT ARLINGTON  40.896590 -74.632731\n222      95172  WAYNE/ROUTE 23 TRANSIT CENTER [RR]  40.900254 -74.256971\n226      95183           PENNSAUKEN TRANSIT CENTER  39.977769 -75.061796\n227      95184                             WESMONT  40.854979 -74.096951\n\n[168 rows x 4 columns]",
                        "text/html": "<div>\n<style scoped>\n    .dataframe tbody tr th:only-of-type {\n        vertical-align: middle;\n    }\n\n    .dataframe tbody tr th {\n        vertical-align: top;\n    }\n\n    .dataframe thead th {\n        text-align: right;\n    }\n</style>\n<table border=\"1\" class=\"dataframe\">\n  <thead>\n    <tr style=\"text-align: right;\">\n      <th></th>\n      <th>stop_code</th>\n      <th>stop_name</th>\n      <th>stop_lat</th>\n      <th>stop_lon</th>\n    </tr>\n  </thead>\n  <tbody>\n    <tr>\n      <th>0</th>\n      <td>95001</td>\n      <td>30TH ST. PHL.</td>\n      <td>39.956565</td>\n      <td>-75.182327</td>\n    </tr>\n    <tr>\n      <th>1</th>\n      <td>95002</td>\n      <td>ABSECON</td>\n      <td>39.424333</td>\n      <td>-74.502094</td>\n    </tr>\n    <tr>\n      <th>2</th>\n      <td>95003</td>\n      <td>ALLENDALE</td>\n      <td>41.030902</td>\n      <td>-74.130957</td>\n    </tr>\n    <tr>\n      <th>3</th>\n      <td>95004</td>\n      <td>ALLENHURST</td>\n      <td>40.237659</td>\n      <td>-74.006769</td>\n    </tr>\n    <tr>\n      <th>4</th>\n      <td>95005</td>\n      <td>ANDERSON STREET</td>\n      <td>40.894458</td>\n      <td>-74.043781</td>\n    </tr>\n    <tr>\n      <th>...</th>\n      <td>...</td>\n      <td>...</td>\n      <td>...</td>\n      <td>...</td>\n    </tr>\n    <tr>\n      <th>213</th>\n      <td>30824</td>\n      <td>BERGENLINE AVE</td>\n      <td>40.782225</td>\n      <td>-74.022271</td>\n    </tr>\n    <tr>\n      <th>221</th>\n      <td>95171</td>\n      <td>MOUNT ARLINGTON</td>\n      <td>40.896590</td>\n      <td>-74.632731</td>\n    </tr>\n    <tr>\n      <th>222</th>\n      <td>95172</td>\n      <td>WAYNE/ROUTE 23 TRANSIT CENTER [RR]</td>\n      <td>40.900254</td>\n      <td>-74.256971</td>\n    </tr>\n    <tr>\n      <th>226</th>\n      <td>95183</td>\n      <td>PENNSAUKEN TRANSIT CENTER</td>\n      <td>39.977769</td>\n      <td>-75.061796</td>\n    </tr>\n    <tr>\n      <th>227</th>\n      <td>95184</td>\n      <td>WESMONT</td>\n      <td>40.854979</td>\n      <td>-74.096951</td>\n    </tr>\n  </tbody>\n</table>\n<p>168 rows \u00d7 4 columns</p>\n</div>"
                    },
                    "metadata": {}
                }
            ]
        },
        {
            "metadata": {},
            "cell_type": "code",
            "source": "## Merge list of stations from NJ Transit with list of county stations from Wikipedia\nmergedstops = pd.merge(left=dfstops, right=dfwiki, left_on='stop_name', right_on='stop_name')\nmergedstops",
            "execution_count": 143,
            "outputs": [
                {
                    "output_type": "execute_result",
                    "execution_count": 143,
                    "data": {
                        "text/plain": "    stop_code        stop_name   stop_lat   stop_lon\n0       95020          BOONTON  40.903378 -74.407736\n1       95030          CONVENT  40.779038 -74.443435\n2       95035            DOVER  40.883415 -74.555887\n3       95067   LAKE HOPATCONG  40.904219 -74.665697\n4       95077          MADISON  40.757028 -74.415105\n5       95088       MILLINGTON  40.673513 -74.523606\n6       95091    MORRIS PLAINS  40.828637 -74.478197\n7       95092       MORRISTOWN  40.797113 -74.474086\n8       95094      MOUNT TABOR  40.875904 -74.481915\n9       95147           TOWACO  40.922809 -74.343842\n10      95171  MOUNT ARLINGTON  40.896590 -74.632731",
                        "text/html": "<div>\n<style scoped>\n    .dataframe tbody tr th:only-of-type {\n        vertical-align: middle;\n    }\n\n    .dataframe tbody tr th {\n        vertical-align: top;\n    }\n\n    .dataframe thead th {\n        text-align: right;\n    }\n</style>\n<table border=\"1\" class=\"dataframe\">\n  <thead>\n    <tr style=\"text-align: right;\">\n      <th></th>\n      <th>stop_code</th>\n      <th>stop_name</th>\n      <th>stop_lat</th>\n      <th>stop_lon</th>\n    </tr>\n  </thead>\n  <tbody>\n    <tr>\n      <th>0</th>\n      <td>95020</td>\n      <td>BOONTON</td>\n      <td>40.903378</td>\n      <td>-74.407736</td>\n    </tr>\n    <tr>\n      <th>1</th>\n      <td>95030</td>\n      <td>CONVENT</td>\n      <td>40.779038</td>\n      <td>-74.443435</td>\n    </tr>\n    <tr>\n      <th>2</th>\n      <td>95035</td>\n      <td>DOVER</td>\n      <td>40.883415</td>\n      <td>-74.555887</td>\n    </tr>\n    <tr>\n      <th>3</th>\n      <td>95067</td>\n      <td>LAKE HOPATCONG</td>\n      <td>40.904219</td>\n      <td>-74.665697</td>\n    </tr>\n    <tr>\n      <th>4</th>\n      <td>95077</td>\n      <td>MADISON</td>\n      <td>40.757028</td>\n      <td>-74.415105</td>\n    </tr>\n    <tr>\n      <th>5</th>\n      <td>95088</td>\n      <td>MILLINGTON</td>\n      <td>40.673513</td>\n      <td>-74.523606</td>\n    </tr>\n    <tr>\n      <th>6</th>\n      <td>95091</td>\n      <td>MORRIS PLAINS</td>\n      <td>40.828637</td>\n      <td>-74.478197</td>\n    </tr>\n    <tr>\n      <th>7</th>\n      <td>95092</td>\n      <td>MORRISTOWN</td>\n      <td>40.797113</td>\n      <td>-74.474086</td>\n    </tr>\n    <tr>\n      <th>8</th>\n      <td>95094</td>\n      <td>MOUNT TABOR</td>\n      <td>40.875904</td>\n      <td>-74.481915</td>\n    </tr>\n    <tr>\n      <th>9</th>\n      <td>95147</td>\n      <td>TOWACO</td>\n      <td>40.922809</td>\n      <td>-74.343842</td>\n    </tr>\n    <tr>\n      <th>10</th>\n      <td>95171</td>\n      <td>MOUNT ARLINGTON</td>\n      <td>40.896590</td>\n      <td>-74.632731</td>\n    </tr>\n  </tbody>\n</table>\n</div>"
                    },
                    "metadata": {}
                }
            ]
        },
        {
            "metadata": {},
            "cell_type": "code",
            "source": "print(\"Morris County has \" + str(len(mergedstops.index)) + \" public train station stops.**\")",
            "execution_count": 155,
            "outputs": [
                {
                    "output_type": "stream",
                    "text": "Morris County has 11 public train station stops.**\n",
                    "name": "stdout"
                }
            ]
        },
        {
            "metadata": {},
            "cell_type": "code",
            "source": "",
            "execution_count": null,
            "outputs": []
        }
    ],
    "metadata": {
        "kernelspec": {
            "name": "python3",
            "display_name": "Python 3.7",
            "language": "python"
        },
        "language_info": {
            "name": "python",
            "version": "3.7.9",
            "mimetype": "text/x-python",
            "codemirror_mode": {
                "name": "ipython",
                "version": 3
            },
            "pygments_lexer": "ipython3",
            "nbconvert_exporter": "python",
            "file_extension": ".py"
        }
    },
    "nbformat": 4,
    "nbformat_minor": 1
}