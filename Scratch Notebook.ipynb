{
    "cells": [
        {
            "metadata": {},
            "cell_type": "code",
            "source": "import pandas as pd\ndfstops = pd.read_table(\"https://raw.githubusercontent.com/cwkruppo/Coursera_Capstone/master/stops.txt\", sep=',', header=0)\ndfstops.head()",
            "execution_count": 4,
            "outputs": [
                {
                    "output_type": "execute_result",
                    "execution_count": 4,
                    "data": {
                        "text/plain": "   stop_id  stop_code        stop_name  stop_desc   stop_lat   stop_lon  \\\n0        1      95001    30TH ST. PHL.        NaN  39.956565 -75.182327   \n1        2      95002          ABSECON        NaN  39.424333 -74.502094   \n2        3      95003        ALLENDALE        NaN  41.030902 -74.130957   \n3        4      95004       ALLENHURST        NaN  40.237659 -74.006769   \n4        5      95005  ANDERSON STREET        NaN  40.894458 -74.043781   \n\n   zone_id  \n0     5961  \n1      333  \n2     2893  \n3     5453  \n4     1357  ",
                        "text/html": "<div>\n<style scoped>\n    .dataframe tbody tr th:only-of-type {\n        vertical-align: middle;\n    }\n\n    .dataframe tbody tr th {\n        vertical-align: top;\n    }\n\n    .dataframe thead th {\n        text-align: right;\n    }\n</style>\n<table border=\"1\" class=\"dataframe\">\n  <thead>\n    <tr style=\"text-align: right;\">\n      <th></th>\n      <th>stop_id</th>\n      <th>stop_code</th>\n      <th>stop_name</th>\n      <th>stop_desc</th>\n      <th>stop_lat</th>\n      <th>stop_lon</th>\n      <th>zone_id</th>\n    </tr>\n  </thead>\n  <tbody>\n    <tr>\n      <th>0</th>\n      <td>1</td>\n      <td>95001</td>\n      <td>30TH ST. PHL.</td>\n      <td>NaN</td>\n      <td>39.956565</td>\n      <td>-75.182327</td>\n      <td>5961</td>\n    </tr>\n    <tr>\n      <th>1</th>\n      <td>2</td>\n      <td>95002</td>\n      <td>ABSECON</td>\n      <td>NaN</td>\n      <td>39.424333</td>\n      <td>-74.502094</td>\n      <td>333</td>\n    </tr>\n    <tr>\n      <th>2</th>\n      <td>3</td>\n      <td>95003</td>\n      <td>ALLENDALE</td>\n      <td>NaN</td>\n      <td>41.030902</td>\n      <td>-74.130957</td>\n      <td>2893</td>\n    </tr>\n    <tr>\n      <th>3</th>\n      <td>4</td>\n      <td>95004</td>\n      <td>ALLENHURST</td>\n      <td>NaN</td>\n      <td>40.237659</td>\n      <td>-74.006769</td>\n      <td>5453</td>\n    </tr>\n    <tr>\n      <th>4</th>\n      <td>5</td>\n      <td>95005</td>\n      <td>ANDERSON STREET</td>\n      <td>NaN</td>\n      <td>40.894458</td>\n      <td>-74.043781</td>\n      <td>1357</td>\n    </tr>\n  </tbody>\n</table>\n</div>"
                    },
                    "metadata": {}
                }
            ]
        },
        {
            "metadata": {},
            "cell_type": "code",
            "source": "dfstops.columns",
            "execution_count": 5,
            "outputs": [
                {
                    "output_type": "execute_result",
                    "execution_count": 5,
                    "data": {
                        "text/plain": "Index(['stop_id', 'stop_code', 'stop_name', 'stop_desc', 'stop_lat',\n       'stop_lon', 'zone_id'],\n      dtype='object')"
                    },
                    "metadata": {}
                }
            ]
        },
        {
            "metadata": {},
            "cell_type": "code",
            "source": "dfstops.shape",
            "execution_count": 6,
            "outputs": [
                {
                    "output_type": "execute_result",
                    "execution_count": 6,
                    "data": {
                        "text/plain": "(228, 7)"
                    },
                    "metadata": {}
                }
            ]
        },
        {
            "metadata": {},
            "cell_type": "code",
            "source": "## Drop unwanted columns, reducing to a unique stope code, the stop name, and the stop's lat & long\ndfstops.drop(['stop_id', 'stop_desc', 'zone_id'], axis=1, inplace=True)\ndfstops.columns",
            "execution_count": 7,
            "outputs": [
                {
                    "output_type": "execute_result",
                    "execution_count": 7,
                    "data": {
                        "text/plain": "Index(['stop_code', 'stop_name', 'stop_lat', 'stop_lon'], dtype='object')"
                    },
                    "metadata": {}
                }
            ]
        },
        {
            "metadata": {},
            "cell_type": "code",
            "source": "dfstops.shape",
            "execution_count": 8,
            "outputs": [
                {
                    "output_type": "execute_result",
                    "execution_count": 8,
                    "data": {
                        "text/plain": "(228, 4)"
                    },
                    "metadata": {}
                }
            ]
        },
        {
            "metadata": {},
            "cell_type": "code",
            "source": "dfstops.head()",
            "execution_count": 9,
            "outputs": [
                {
                    "output_type": "execute_result",
                    "execution_count": 9,
                    "data": {
                        "text/plain": "   stop_code        stop_name   stop_lat   stop_lon\n0      95001    30TH ST. PHL.  39.956565 -75.182327\n1      95002          ABSECON  39.424333 -74.502094\n2      95003        ALLENDALE  41.030902 -74.130957\n3      95004       ALLENHURST  40.237659 -74.006769\n4      95005  ANDERSON STREET  40.894458 -74.043781",
                        "text/html": "<div>\n<style scoped>\n    .dataframe tbody tr th:only-of-type {\n        vertical-align: middle;\n    }\n\n    .dataframe tbody tr th {\n        vertical-align: top;\n    }\n\n    .dataframe thead th {\n        text-align: right;\n    }\n</style>\n<table border=\"1\" class=\"dataframe\">\n  <thead>\n    <tr style=\"text-align: right;\">\n      <th></th>\n      <th>stop_code</th>\n      <th>stop_name</th>\n      <th>stop_lat</th>\n      <th>stop_lon</th>\n    </tr>\n  </thead>\n  <tbody>\n    <tr>\n      <th>0</th>\n      <td>95001</td>\n      <td>30TH ST. PHL.</td>\n      <td>39.956565</td>\n      <td>-75.182327</td>\n    </tr>\n    <tr>\n      <th>1</th>\n      <td>95002</td>\n      <td>ABSECON</td>\n      <td>39.424333</td>\n      <td>-74.502094</td>\n    </tr>\n    <tr>\n      <th>2</th>\n      <td>95003</td>\n      <td>ALLENDALE</td>\n      <td>41.030902</td>\n      <td>-74.130957</td>\n    </tr>\n    <tr>\n      <th>3</th>\n      <td>95004</td>\n      <td>ALLENHURST</td>\n      <td>40.237659</td>\n      <td>-74.006769</td>\n    </tr>\n    <tr>\n      <th>4</th>\n      <td>95005</td>\n      <td>ANDERSON STREET</td>\n      <td>40.894458</td>\n      <td>-74.043781</td>\n    </tr>\n  </tbody>\n</table>\n</div>"
                    },
                    "metadata": {}
                }
            ]
        },
        {
            "metadata": {},
            "cell_type": "code",
            "source": "## Drop unwanted rows, cutting the light rail data, since our focus is on main railway stations only (and because light rail service doesn't operate in Morris County)\n#identify partial string to look for\ndfstops = dfstops[~dfstops['stop_name'].str.contains('LIGHT RAIL')]\ndfstops.shape",
            "execution_count": 10,
            "outputs": [
                {
                    "output_type": "execute_result",
                    "execution_count": 10,
                    "data": {
                        "text/plain": "(168, 4)"
                    },
                    "metadata": {}
                }
            ]
        },
        {
            "metadata": {},
            "cell_type": "code",
            "source": "dfstops",
            "execution_count": 11,
            "outputs": [
                {
                    "output_type": "execute_result",
                    "execution_count": 11,
                    "data": {
                        "text/plain": "     stop_code                           stop_name   stop_lat   stop_lon\n0        95001                       30TH ST. PHL.  39.956565 -75.182327\n1        95002                             ABSECON  39.424333 -74.502094\n2        95003                           ALLENDALE  41.030902 -74.130957\n3        95004                          ALLENHURST  40.237659 -74.006769\n4        95005                     ANDERSON STREET  40.894458 -74.043781\n..         ...                                 ...        ...        ...\n213      30824                      BERGENLINE AVE  40.782225 -74.022271\n221      95171                     MOUNT ARLINGTON  40.896590 -74.632731\n222      95172  WAYNE/ROUTE 23 TRANSIT CENTER [RR]  40.900254 -74.256971\n226      95183           PENNSAUKEN TRANSIT CENTER  39.977769 -75.061796\n227      95184                             WESMONT  40.854979 -74.096951\n\n[168 rows x 4 columns]",
                        "text/html": "<div>\n<style scoped>\n    .dataframe tbody tr th:only-of-type {\n        vertical-align: middle;\n    }\n\n    .dataframe tbody tr th {\n        vertical-align: top;\n    }\n\n    .dataframe thead th {\n        text-align: right;\n    }\n</style>\n<table border=\"1\" class=\"dataframe\">\n  <thead>\n    <tr style=\"text-align: right;\">\n      <th></th>\n      <th>stop_code</th>\n      <th>stop_name</th>\n      <th>stop_lat</th>\n      <th>stop_lon</th>\n    </tr>\n  </thead>\n  <tbody>\n    <tr>\n      <th>0</th>\n      <td>95001</td>\n      <td>30TH ST. PHL.</td>\n      <td>39.956565</td>\n      <td>-75.182327</td>\n    </tr>\n    <tr>\n      <th>1</th>\n      <td>95002</td>\n      <td>ABSECON</td>\n      <td>39.424333</td>\n      <td>-74.502094</td>\n    </tr>\n    <tr>\n      <th>2</th>\n      <td>95003</td>\n      <td>ALLENDALE</td>\n      <td>41.030902</td>\n      <td>-74.130957</td>\n    </tr>\n    <tr>\n      <th>3</th>\n      <td>95004</td>\n      <td>ALLENHURST</td>\n      <td>40.237659</td>\n      <td>-74.006769</td>\n    </tr>\n    <tr>\n      <th>4</th>\n      <td>95005</td>\n      <td>ANDERSON STREET</td>\n      <td>40.894458</td>\n      <td>-74.043781</td>\n    </tr>\n    <tr>\n      <th>...</th>\n      <td>...</td>\n      <td>...</td>\n      <td>...</td>\n      <td>...</td>\n    </tr>\n    <tr>\n      <th>213</th>\n      <td>30824</td>\n      <td>BERGENLINE AVE</td>\n      <td>40.782225</td>\n      <td>-74.022271</td>\n    </tr>\n    <tr>\n      <th>221</th>\n      <td>95171</td>\n      <td>MOUNT ARLINGTON</td>\n      <td>40.896590</td>\n      <td>-74.632731</td>\n    </tr>\n    <tr>\n      <th>222</th>\n      <td>95172</td>\n      <td>WAYNE/ROUTE 23 TRANSIT CENTER [RR]</td>\n      <td>40.900254</td>\n      <td>-74.256971</td>\n    </tr>\n    <tr>\n      <th>226</th>\n      <td>95183</td>\n      <td>PENNSAUKEN TRANSIT CENTER</td>\n      <td>39.977769</td>\n      <td>-75.061796</td>\n    </tr>\n    <tr>\n      <th>227</th>\n      <td>95184</td>\n      <td>WESMONT</td>\n      <td>40.854979</td>\n      <td>-74.096951</td>\n    </tr>\n  </tbody>\n</table>\n<p>168 rows \u00d7 4 columns</p>\n</div>"
                    },
                    "metadata": {}
                }
            ]
        },
        {
            "metadata": {},
            "cell_type": "code",
            "source": "dfstops.to_csv (r'C:\\Users\\ggoul_000\\Desktop\\export_dataframe.csv', index = False) \nprint('Done downloading.')",
            "execution_count": 43,
            "outputs": [
                {
                    "output_type": "stream",
                    "text": "Done downloading.\n",
                    "name": "stdout"
                }
            ]
        },
        {
            "metadata": {},
            "cell_type": "code",
            "source": "pd.read_csv ('C:\\\\Users\\ggoul_000\\Desktop\\export_dataframe.csv')",
            "execution_count": 47,
            "outputs": [
                {
                    "output_type": "execute_result",
                    "execution_count": 47,
                    "data": {
                        "text/plain": "     stop_code                           stop_name   stop_lat   stop_lon\n0        95001                       30TH ST. PHL.  39.956565 -75.182327\n1        95002                             ABSECON  39.424333 -74.502094\n2        95003                           ALLENDALE  41.030902 -74.130957\n3        95004                          ALLENHURST  40.237659 -74.006769\n4        95005                     ANDERSON STREET  40.894458 -74.043781\n..         ...                                 ...        ...        ...\n163      30824                      BERGENLINE AVE  40.782225 -74.022271\n164      95171                     MOUNT ARLINGTON  40.896590 -74.632731\n165      95172  WAYNE/ROUTE 23 TRANSIT CENTER [RR]  40.900254 -74.256971\n166      95183           PENNSAUKEN TRANSIT CENTER  39.977769 -75.061796\n167      95184                             WESMONT  40.854979 -74.096951\n\n[168 rows x 4 columns]",
                        "text/html": "<div>\n<style scoped>\n    .dataframe tbody tr th:only-of-type {\n        vertical-align: middle;\n    }\n\n    .dataframe tbody tr th {\n        vertical-align: top;\n    }\n\n    .dataframe thead th {\n        text-align: right;\n    }\n</style>\n<table border=\"1\" class=\"dataframe\">\n  <thead>\n    <tr style=\"text-align: right;\">\n      <th></th>\n      <th>stop_code</th>\n      <th>stop_name</th>\n      <th>stop_lat</th>\n      <th>stop_lon</th>\n    </tr>\n  </thead>\n  <tbody>\n    <tr>\n      <th>0</th>\n      <td>95001</td>\n      <td>30TH ST. PHL.</td>\n      <td>39.956565</td>\n      <td>-75.182327</td>\n    </tr>\n    <tr>\n      <th>1</th>\n      <td>95002</td>\n      <td>ABSECON</td>\n      <td>39.424333</td>\n      <td>-74.502094</td>\n    </tr>\n    <tr>\n      <th>2</th>\n      <td>95003</td>\n      <td>ALLENDALE</td>\n      <td>41.030902</td>\n      <td>-74.130957</td>\n    </tr>\n    <tr>\n      <th>3</th>\n      <td>95004</td>\n      <td>ALLENHURST</td>\n      <td>40.237659</td>\n      <td>-74.006769</td>\n    </tr>\n    <tr>\n      <th>4</th>\n      <td>95005</td>\n      <td>ANDERSON STREET</td>\n      <td>40.894458</td>\n      <td>-74.043781</td>\n    </tr>\n    <tr>\n      <th>...</th>\n      <td>...</td>\n      <td>...</td>\n      <td>...</td>\n      <td>...</td>\n    </tr>\n    <tr>\n      <th>163</th>\n      <td>30824</td>\n      <td>BERGENLINE AVE</td>\n      <td>40.782225</td>\n      <td>-74.022271</td>\n    </tr>\n    <tr>\n      <th>164</th>\n      <td>95171</td>\n      <td>MOUNT ARLINGTON</td>\n      <td>40.896590</td>\n      <td>-74.632731</td>\n    </tr>\n    <tr>\n      <th>165</th>\n      <td>95172</td>\n      <td>WAYNE/ROUTE 23 TRANSIT CENTER [RR]</td>\n      <td>40.900254</td>\n      <td>-74.256971</td>\n    </tr>\n    <tr>\n      <th>166</th>\n      <td>95183</td>\n      <td>PENNSAUKEN TRANSIT CENTER</td>\n      <td>39.977769</td>\n      <td>-75.061796</td>\n    </tr>\n    <tr>\n      <th>167</th>\n      <td>95184</td>\n      <td>WESMONT</td>\n      <td>40.854979</td>\n      <td>-74.096951</td>\n    </tr>\n  </tbody>\n</table>\n<p>168 rows \u00d7 4 columns</p>\n</div>"
                    },
                    "metadata": {}
                }
            ]
        },
        {
            "metadata": {},
            "cell_type": "code",
            "source": "## Lastly, we will extract only the train stations within Morris County, NJ as identified in the Wikipedia page.\n## Since we have a short list of stations, we will create a dataframe for them.\n## The alternative would be to find shapefile information for the county, and limit our station data only to points that fall within the parameters set by the map data.",
            "execution_count": 33,
            "outputs": []
        },
        {
            "metadata": {},
            "cell_type": "code",
            "source": "## TESTING IMPORT CENSUS DATA AND MAPPING PACKAGES\n\n! pip install census\n! pip install us\n! conda install -c plotly plotly-geo\n\nimport plotly.figure_factory as ff\nimport pandas as pd\n\nprint('Done installing.')",
            "execution_count": 4,
            "outputs": [
                {
                    "output_type": "stream",
                    "text": "Collecting census\n  Downloading census-0.8.17-py3-none-any.whl (10 kB)\nRequirement already satisfied: requests>=1.1.0 in /opt/conda/envs/Python-3.7-main/lib/python3.7/site-packages (from census) (2.24.0)\nRequirement already satisfied: certifi>=2017.4.17 in /opt/conda/envs/Python-3.7-main/lib/python3.7/site-packages (from requests>=1.1.0->census) (2020.12.5)\nRequirement already satisfied: urllib3!=1.25.0,!=1.25.1,<1.26,>=1.21.1 in /opt/conda/envs/Python-3.7-main/lib/python3.7/site-packages (from requests>=1.1.0->census) (1.25.9)\nRequirement already satisfied: idna<3,>=2.5 in /opt/conda/envs/Python-3.7-main/lib/python3.7/site-packages (from requests>=1.1.0->census) (2.9)\nRequirement already satisfied: chardet<4,>=3.0.2 in /opt/conda/envs/Python-3.7-main/lib/python3.7/site-packages (from requests>=1.1.0->census) (3.0.4)\nInstalling collected packages: census\nSuccessfully installed census-0.8.17\nCollecting us\n  Downloading us-2.0.2.tar.gz (14 kB)\nCollecting jellyfish==0.6.1\n  Downloading jellyfish-0.6.1.tar.gz (132 kB)\n\u001b[K     |\u2588\u2588\u2588\u2588\u2588\u2588\u2588\u2588\u2588\u2588\u2588\u2588\u2588\u2588\u2588\u2588\u2588\u2588\u2588\u2588\u2588\u2588\u2588\u2588\u2588\u2588\u2588\u2588\u2588\u2588\u2588\u2588| 132 kB 24.3 MB/s eta 0:00:01\n\u001b[?25hBuilding wheels for collected packages: us, jellyfish\n  Building wheel for us (setup.py) ... \u001b[?25ldone\n\u001b[?25h  Created wheel for us: filename=us-2.0.2-py3-none-any.whl size=11927 sha256=56e6f25e82d66fc1b99dd2ba3b1a9cb4cd490248281941b4b7e909261cebec7c\n  Stored in directory: /tmp/wsuser/.cache/pip/wheels/ca/6b/11/cda9ea2438f721330a35c9a2c8e34b4aedcd34c89af48a4d00\n  Building wheel for jellyfish (setup.py) ... \u001b[?25ldone\n\u001b[?25h  Created wheel for jellyfish: filename=jellyfish-0.6.1-cp37-cp37m-linux_x86_64.whl size=91388 sha256=d83ba2c8b1ecb78a2ec96782f552e86d93213e5c9a792a30f69969cd2cb25bdd\n  Stored in directory: /tmp/wsuser/.cache/pip/wheels/a1/99/51/7de469e37cd1b3c763c24394e1ebf1baa2d79e094bf346cf80\nSuccessfully built us jellyfish\nInstalling collected packages: jellyfish, us\nSuccessfully installed jellyfish-0.6.1 us-2.0.2\nCollecting package metadata (current_repodata.json): done\nSolving environment: failed with initial frozen solve. Retrying with flexible solve.\nSolving environment: done\nCollecting package metadata (repodata.json): done\nSolving environment: failed with initial frozen solve. Retrying with flexible solve.\nSolving environment: done\n\n## Package Plan ##\n\n  environment location: /opt/conda/envs/Python-3.7-main\n\n  added / updated specs:\n    - plotly-geo\n\n\nThe following packages will be downloaded:\n\n    package                    |            build\n    ---------------------------|-----------------\n    ibm-wsrt-py37main-keep-0.0.0|             1823           2 KB\n    ibm-wsrt-py37main-main-custom|             1823           2 KB\n    openssl-1.1.1j             |       h27cfd23_0         2.5 MB\n    plotly-4.14.3              |             py_0         5.9 MB  plotly\n    plotly-geo-1.0.0           |             py_0        18.9 MB  plotly\n    ------------------------------------------------------------\n                                           Total:        27.3 MB\n\nThe following NEW packages will be INSTALLED:\n\n  ibm-wsrt-py37main~ opt/ibm/build/channels/wscloud/noarch::ibm-wsrt-py37main-keep-0.0.0-1823\n  plotly-geo         plotly/noarch::plotly-geo-1.0.0-py_0\n\nThe following packages will be UPDATED:\n\n  openssl                                 1.1.1i-h27cfd23_0 --> 1.1.1j-h27cfd23_0\n  plotly                       pkgs/main::plotly-4.8.2-py_0 --> plotly::plotly-4.14.3-py_0\n\nThe following packages will be DOWNGRADED:\n\n  ibm-wsrt-py37main~                             0.0.0-1823 --> custom-1823\n\n\n\nDownloading and Extracting Packages\nplotly-geo-1.0.0     | 18.9 MB   | ##################################### | 100% \nibm-wsrt-py37main-ke | 2 KB      | ##################################### | 100% \nplotly-4.14.3        | 5.9 MB    | ##################################### | 100% \nibm-wsrt-py37main-ma | 2 KB      | ##################################### | 100% \nopenssl-1.1.1j       | 2.5 MB    | ##################################### | 100% \nPreparing transaction: done\nVerifying transaction: done\nExecuting transaction: done\nDone installing.\n",
                    "name": "stdout"
                }
            ]
        },
        {
            "metadata": {},
            "cell_type": "code",
            "source": "## TESTING IMPORT CENSUS DATA AND MAPPING PACKAGES\n! conda install -c plotly plotly-geo\n\nimport plotly.figure_factory as ff\n\nscope = ['Oregon']\ndf_sample = pd.read_csv(\n    'https://raw.githubusercontent.com/plotly/datasets/master/minoritymajority.csv'\n)\ndf_sample_r = df_sample[df_sample['STNAME'].isin(scope)]\n\nvalues = df_sample_r['TOT_POP'].tolist()\nfips = df_sample_r['FIPS'].tolist()\n\ncolorscale = [\"#8dd3c7\", \"#ffffb3\", \"#bebada\", \"#fb8072\",\n              \"#80b1d3\", \"#fdb462\", \"#b3de69\", \"#fccde5\",\n              \"#d9d9d9\", \"#bc80bd\", \"#ccebc5\", \"#ffed6f\",\n              \"#8dd3c7\", \"#ffffb3\", \"#bebada\", \"#fb8072\",\n              \"#80b1d3\", \"#fdb462\", \"#b3de69\", \"#fccde5\",\n              \"#d9d9d9\", \"#bc80bd\", \"#ccebc5\", \"#ffed6f\",\n              \"#8dd3c7\", \"#ffffb3\", \"#bebada\", \"#fb8072\",\n              \"#80b1d3\", \"#fdb462\", \"#b3de69\", \"#fccde5\",\n              \"#d9d9d9\", \"#bc80bd\", \"#ccebc5\", \"#ffed6f\"]\n\nfig = ff.create_choropleth(\n    fips=fips, values=values, scope=scope,\n    colorscale=colorscale, round_legend_values=True,\n    simplify_county=0, simplify_state=0,\n    county_outline={'color': 'rgb(15, 15, 55)', 'width': 0.5},\n    state_outline={'width': 1},\n    legend_title='pop. per county',\n    title='Oregon'\n)\n\nfig.layout.template = None\nfig.show()",
            "execution_count": 5,
            "outputs": [
                {
                    "output_type": "stream",
                    "text": "Collecting package metadata (current_repodata.json): done\nSolving environment: done\n\n# All requested packages already installed.\n\n",
                    "name": "stdout"
                },
                {
                    "output_type": "error",
                    "ename": "ImportError",
                    "evalue": "geopandas, pyshp and shapely must be installed for this figure factory.\n\nRun the following commands to install the correct versions of the following modules:\n\n```\n$ pip install geopandas==0.3.0\n$ pip install pyshp==1.2.10\n$ pip install shapely==1.6.3\n```\nIf you are using Windows, follow this post to properly install geopandas and dependencies:http://geoffboeing.com/2014/09/using-geopandas-windows/\n\nIf you are using Anaconda, do not use PIP to install the packages above. Instead use conda to install them:\n\n```\n$ conda install plotly\n$ conda install geopandas\n```",
                    "traceback": [
                        "\u001b[0;31m---------------------------------------------------------------------------\u001b[0m",
                        "\u001b[0;31mImportError\u001b[0m                               Traceback (most recent call last)",
                        "\u001b[0;32m<ipython-input-5-1c9f96c093a8>\u001b[0m in \u001b[0;36m<module>\u001b[0;34m\u001b[0m\n\u001b[1;32m     30\u001b[0m     \u001b[0mstate_outline\u001b[0m\u001b[0;34m=\u001b[0m\u001b[0;34m{\u001b[0m\u001b[0;34m'width'\u001b[0m\u001b[0;34m:\u001b[0m \u001b[0;36m1\u001b[0m\u001b[0;34m}\u001b[0m\u001b[0;34m,\u001b[0m\u001b[0;34m\u001b[0m\u001b[0;34m\u001b[0m\u001b[0m\n\u001b[1;32m     31\u001b[0m     \u001b[0mlegend_title\u001b[0m\u001b[0;34m=\u001b[0m\u001b[0;34m'pop. per county'\u001b[0m\u001b[0;34m,\u001b[0m\u001b[0;34m\u001b[0m\u001b[0;34m\u001b[0m\u001b[0m\n\u001b[0;32m---> 32\u001b[0;31m     \u001b[0mtitle\u001b[0m\u001b[0;34m=\u001b[0m\u001b[0;34m'Oregon'\u001b[0m\u001b[0;34m\u001b[0m\u001b[0;34m\u001b[0m\u001b[0m\n\u001b[0m\u001b[1;32m     33\u001b[0m )\n\u001b[1;32m     34\u001b[0m \u001b[0;34m\u001b[0m\u001b[0m\n",
                        "\u001b[0;32m/opt/conda/envs/Python-3.7-main/lib/python3.7/site-packages/plotly/figure_factory/_county_choropleth.py\u001b[0m in \u001b[0;36mcreate_choropleth\u001b[0;34m(fips, values, scope, binning_endpoints, colorscale, order, simplify_county, simplify_state, asp, show_hover, show_state_data, state_outline, county_outline, centroid_marker, round_legend_values, exponent_format, legend_title, **layout_options)\u001b[0m\n\u001b[1;32m    618\u001b[0m     \u001b[0;32mif\u001b[0m \u001b[0;32mnot\u001b[0m \u001b[0mgp\u001b[0m \u001b[0;32mor\u001b[0m \u001b[0;32mnot\u001b[0m \u001b[0mshapefile\u001b[0m \u001b[0;32mor\u001b[0m \u001b[0;32mnot\u001b[0m \u001b[0mshapely\u001b[0m\u001b[0;34m:\u001b[0m\u001b[0;34m\u001b[0m\u001b[0;34m\u001b[0m\u001b[0m\n\u001b[1;32m    619\u001b[0m         raise ImportError(\n\u001b[0;32m--> 620\u001b[0;31m             \u001b[0;34m\"geopandas, pyshp and shapely must be installed for this figure \"\u001b[0m\u001b[0;34m\u001b[0m\u001b[0;34m\u001b[0m\u001b[0m\n\u001b[0m\u001b[1;32m    621\u001b[0m             \u001b[0;34m\"factory.\\n\\nRun the following commands to install the correct \"\u001b[0m\u001b[0;34m\u001b[0m\u001b[0;34m\u001b[0m\u001b[0m\n\u001b[1;32m    622\u001b[0m             \u001b[0;34m\"versions of the following modules:\\n\\n\"\u001b[0m\u001b[0;34m\u001b[0m\u001b[0;34m\u001b[0m\u001b[0m\n",
                        "\u001b[0;31mImportError\u001b[0m: geopandas, pyshp and shapely must be installed for this figure factory.\n\nRun the following commands to install the correct versions of the following modules:\n\n```\n$ pip install geopandas==0.3.0\n$ pip install pyshp==1.2.10\n$ pip install shapely==1.6.3\n```\nIf you are using Windows, follow this post to properly install geopandas and dependencies:http://geoffboeing.com/2014/09/using-geopandas-windows/\n\nIf you are using Anaconda, do not use PIP to install the packages above. Instead use conda to install them:\n\n```\n$ conda install plotly\n$ conda install geopandas\n```"
                    ]
                }
            ]
        },
        {
            "metadata": {},
            "cell_type": "code",
            "source": "# @hidden_cell\n\nCLIENT_ID = 'BCLLIS3FHZXMBORMFLCQMYFH1YDVZVO0F2BMJ4KONFEAZ021' # your Foursquare ID\nCLIENT_SECRET = 'ZYUFKQJASGY1DKGUDNMJJH0FJFSV11NPAS22IFXIHS5OPD5F' # your Foursquare Secret\n##code SQV35FLC2CIZWHSASCFI4MXNKDJC1MAT5DX3IDLJJMMT3BRN\nACCESS_TOKEN = 'WDVVTN0TFM1FIZRC2BJOLJYYVQJ2PJVWJ22HFU1BOFCHJ4HZ' # your FourSquare Access Token\nVERSION = '20180604'\nLIMIT = 30\nprint('Foursquare API credentials submitted via hidden cell')",
            "execution_count": null,
            "outputs": []
        },
        {
            "metadata": {},
            "cell_type": "code",
            "source": "location = geolocator.geocode(address)\nlatitude = location.latitude\nlongitude = location.longitude\nprint(latitude, longitude)\n\nsearch_query = 'Walgreens'\nradius = 1200\nprint(search_query + ' .... OK!')",
            "execution_count": 297,
            "outputs": [
                {
                    "output_type": "error",
                    "ename": "NameError",
                    "evalue": "name 'geolocator' is not defined",
                    "traceback": [
                        "\u001b[0;31m---------------------------------------------------------------------------\u001b[0m",
                        "\u001b[0;31mNameError\u001b[0m                                 Traceback (most recent call last)",
                        "\u001b[0;32m<ipython-input-297-c67365ac7fe9>\u001b[0m in \u001b[0;36m<module>\u001b[0;34m\u001b[0m\n\u001b[0;32m----> 1\u001b[0;31m \u001b[0mlocation\u001b[0m \u001b[0;34m=\u001b[0m \u001b[0mgeolocator\u001b[0m\u001b[0;34m.\u001b[0m\u001b[0mgeocode\u001b[0m\u001b[0;34m(\u001b[0m\u001b[0maddress\u001b[0m\u001b[0;34m)\u001b[0m\u001b[0;34m\u001b[0m\u001b[0;34m\u001b[0m\u001b[0m\n\u001b[0m\u001b[1;32m      2\u001b[0m \u001b[0mlatitude\u001b[0m \u001b[0;34m=\u001b[0m \u001b[0mlocation\u001b[0m\u001b[0;34m.\u001b[0m\u001b[0mlatitude\u001b[0m\u001b[0;34m\u001b[0m\u001b[0;34m\u001b[0m\u001b[0m\n\u001b[1;32m      3\u001b[0m \u001b[0mlongitude\u001b[0m \u001b[0;34m=\u001b[0m \u001b[0mlocation\u001b[0m\u001b[0;34m.\u001b[0m\u001b[0mlongitude\u001b[0m\u001b[0;34m\u001b[0m\u001b[0;34m\u001b[0m\u001b[0m\n\u001b[1;32m      4\u001b[0m \u001b[0mprint\u001b[0m\u001b[0;34m(\u001b[0m\u001b[0mlatitude\u001b[0m\u001b[0;34m,\u001b[0m \u001b[0mlongitude\u001b[0m\u001b[0;34m)\u001b[0m\u001b[0;34m\u001b[0m\u001b[0;34m\u001b[0m\u001b[0m\n\u001b[1;32m      5\u001b[0m \u001b[0;34m\u001b[0m\u001b[0m\n",
                        "\u001b[0;31mNameError\u001b[0m: name 'geolocator' is not defined"
                    ]
                }
            ]
        },
        {
            "metadata": {},
            "cell_type": "code",
            "source": "url = 'https://api.foursquare.com/v2/venues/search?client_id={}&client_secret={}&ll={},{}&oauth_token={}&v={}&query={}&radius={}&limit={}'.format(CLIENT_ID, CLIENT_SECRET, latitude, longitude,ACCESS_TOKEN, VERSION, search_query, radius, LIMIT)\nurl",
            "execution_count": 296,
            "outputs": [
                {
                    "output_type": "error",
                    "ename": "NameError",
                    "evalue": "name 'latitude' is not defined",
                    "traceback": [
                        "\u001b[0;31m---------------------------------------------------------------------------\u001b[0m",
                        "\u001b[0;31mNameError\u001b[0m                                 Traceback (most recent call last)",
                        "\u001b[0;32m<ipython-input-296-680164bc9bc6>\u001b[0m in \u001b[0;36m<module>\u001b[0;34m\u001b[0m\n\u001b[0;32m----> 1\u001b[0;31m \u001b[0murl\u001b[0m \u001b[0;34m=\u001b[0m \u001b[0;34m'https://api.foursquare.com/v2/venues/search?client_id={}&client_secret={}&ll={},{}&oauth_token={}&v={}&query={}&radius={}&limit={}'\u001b[0m\u001b[0;34m.\u001b[0m\u001b[0mformat\u001b[0m\u001b[0;34m(\u001b[0m\u001b[0mCLIENT_ID\u001b[0m\u001b[0;34m,\u001b[0m \u001b[0mCLIENT_SECRET\u001b[0m\u001b[0;34m,\u001b[0m \u001b[0mlatitude\u001b[0m\u001b[0;34m,\u001b[0m \u001b[0mlongitude\u001b[0m\u001b[0;34m,\u001b[0m\u001b[0mACCESS_TOKEN\u001b[0m\u001b[0;34m,\u001b[0m \u001b[0mVERSION\u001b[0m\u001b[0;34m,\u001b[0m \u001b[0msearch_query\u001b[0m\u001b[0;34m,\u001b[0m \u001b[0mradius\u001b[0m\u001b[0;34m,\u001b[0m \u001b[0mLIMIT\u001b[0m\u001b[0;34m)\u001b[0m\u001b[0;34m\u001b[0m\u001b[0;34m\u001b[0m\u001b[0m\n\u001b[0m\u001b[1;32m      2\u001b[0m \u001b[0murl\u001b[0m\u001b[0;34m\u001b[0m\u001b[0;34m\u001b[0m\u001b[0m\n",
                        "\u001b[0;31mNameError\u001b[0m: name 'latitude' is not defined"
                    ]
                }
            ]
        },
        {
            "metadata": {},
            "cell_type": "code",
            "source": "",
            "execution_count": null,
            "outputs": []
        }
    ],
    "metadata": {
        "kernelspec": {
            "name": "python3",
            "display_name": "Python 3.7",
            "language": "python"
        },
        "language_info": {
            "name": "python",
            "version": "3.7.9",
            "mimetype": "text/x-python",
            "codemirror_mode": {
                "name": "ipython",
                "version": 3
            },
            "pygments_lexer": "ipython3",
            "nbconvert_exporter": "python",
            "file_extension": ".py"
        }
    },
    "nbformat": 4,
    "nbformat_minor": 1
}