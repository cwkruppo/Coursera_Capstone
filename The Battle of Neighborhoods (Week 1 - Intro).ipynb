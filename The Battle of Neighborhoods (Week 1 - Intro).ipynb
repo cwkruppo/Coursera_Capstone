{
    "cells": [
        {
            "cell_type": "markdown",
            "metadata": {
                "collapsed": true
            },
            "source": "# Capstone Project - The Battle of Neighborhoods (Week 1)\n## By Chase K.\n## Introduction/Business Problem"
        },
        {
            "cell_type": "markdown",
            "metadata": {},
            "source": "**This notebook will be parsed out into individual sections during the first week.**\n\n*The content of this project is hypothetical, and while it addresses a real issue, the premise is fictional and is a work of academic demonstration and not necessarily a real-world solution.*\n***"
        },
        {
            "cell_type": "markdown",
            "metadata": {},
            "source": "**Brief**\n\n*Clearly define a problem or an idea of your choice, where you would need to leverage the Foursquare location data to solve or execute. Remember that data science problems always target an audience and are meant to help a group of stakeholders solve a problem, so make sure that you explicitly describe your audience and why they would care about your problem.*\n***"
        },
        {
            "cell_type": "markdown",
            "metadata": {},
            "source": "# Introduction"
        },
        {
            "cell_type": "markdown",
            "metadata": {},
            "source": "In February 2021, the global coronavirus pandemic is still causing major distruptions to daily life and continues to sicken and kill many people.\nTo combat the virus, scientists around the world have been developing vaccines that will prevent new cases of infection.\n\nAt this time, there are 2 vaccines approved for use in the United States. They are being distributed by the federal government to the states, and administered by county governments, hospital networks, and more recently, retail pharmacy chains."
        },
        {
            "cell_type": "markdown",
            "metadata": {},
            "source": "# The Business Problem"
        },
        {
            "cell_type": "markdown",
            "metadata": {},
            "source": "Logisitics for vaccine distribution have been stymied by miscommunication, slow rollout of each phase of eligible person to be vaccinated, and bringing the vaccine sites online in ways that are accessible to the people who need it most. For those that rely on public transit, just getting to a vaccination site can prove difficult or impossible. \n\n**A *hypothetical* request for proposals has been issued by the <a href=\"https://morriscountynj.gov/\" target=\"_blank\">County of Morris</a> in the State of New Jersey asking for bids to identify the most efficient choice of retail pharmacy locations to adminster vaccine that are accessible by public transit.**\n\nFor this exercise we will consider public transit options through the state agency, <a href=\"url\" target=\"_blank\">NJ Transit</a>. This agency operates trains, light rail, buses, and a ADA paratransit program known as <a href=\"https://www.njtransit.com/accessibility/access-link-ada-paratransit\" target=\"_blank\">Access Link</a>.\n\nAccess Link only picks up or drops off within 3/4 of a mile of a bus or light rail station, so for the purposes of this project, we will **LIMIT** our results to 3/4 miles away from any bus, train, or light rail station. \n\nTrain stations have fixed street addresses while bus stations may be roadside with no real street address. Train stations are also listed as physical places on mapping apps like Google Maps and Foursquare whereas bus stations do not have such profiles, often just a street sign or an overhead covering.\n\n*Because the array of bus stop data is much larger with greater variability in service, we will focus on rail station data only in this project proposal. If the proposal is accepted, we will expand to include bus stations in the report through geolocating or approximating the bus station data to a street address.*\n"
        },
        {
            "cell_type": "markdown",
            "metadata": {},
            "source": "Our firm has been retained to explore the issue, to collect retail pharmacy location data from Foursquare's API, and to use train station data from Foursquare while also considering data from <a href=\"https://www.njtransit.com/developer-tools\" target=\"_blank\">NJ Transit's own developer tools API</a>. As needed, public information on train stations or pharmacies will be considered, with preference for live rather than static data.\n\nFor practical purposes, we will only consider the stand-alone locations for the Walgreen's, CVS, and Rite-Aid pharmacies, and disregard the in-store locations such as Walmart and Shoprite grocery stores."
        },
        {
            "cell_type": "markdown",
            "metadata": {},
            "source": "**In summary, the problem is to find appropriate pharmacies within an appropriate distance to public transit that will serve as vaccination sites.** \n\nThe Foursquare API has location data for both pharmacies as well as train stations, though we will attempt to pull data from the NJ Transit API as well as sources like Wikipedia to verify or enhance data. One expanded use would be to match pharmacy operating hours with that of nearby public transit schedules, the granularity of bus schedules likley requiring use of the NJ Transit API.\n\n**The stakeholders are the county/state governments requesting the proposal, and ultimately the general public, who will be able to use the information to find a vaccination site near them that are accessible by public transit.**"
        }
    ],
    "metadata": {
        "kernelspec": {
            "display_name": "Python 3.7",
            "language": "python",
            "name": "python3"
        },
        "language_info": {
            "codemirror_mode": {
                "name": "ipython",
                "version": 3
            },
            "file_extension": ".py",
            "mimetype": "text/x-python",
            "name": "python",
            "nbconvert_exporter": "python",
            "pygments_lexer": "ipython3",
            "version": "3.7.9"
        }
    },
    "nbformat": 4,
    "nbformat_minor": 1
}